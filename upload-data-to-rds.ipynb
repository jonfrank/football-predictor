{
 "cells": [
  {
   "cell_type": "code",
   "execution_count": 5,
   "metadata": {},
   "outputs": [],
   "source": [
    "import psycopg2\n",
    "import sqlalchemy\n",
    "import pandas as pd"
   ]
  },
  {
   "cell_type": "code",
   "execution_count": 6,
   "metadata": {},
   "outputs": [],
   "source": [
    "rds_params = {\n",
    "    \"host\": \"football.cv8wi4qhb3tj.eu-west-2.rds.amazonaws.com\",\n",
    "    \"port\": \"5432\",\n",
    "    \"user\": \"postgres\",\n",
    "    \"database\": \"football\",\n",
    "    \"password\": \"budosallat\"\n",
    "}"
   ]
  },
  {
   "cell_type": "code",
   "execution_count": 7,
   "metadata": {},
   "outputs": [
    {
     "name": "stdout",
     "output_type": "stream",
     "text": [
      "Connecting to PostgreSQL / RDS...\n",
      "Connected OK - now trying to create the engine\n",
      "Created sqlalchemy engine\n"
     ]
    }
   ],
   "source": [
    "conn = None\n",
    "try:\n",
    "    print('Connecting to PostgreSQL / RDS...')\n",
    "    conn = psycopg2.connect(sslmode='require', sslrootcert=\"./global-bundle.pem\", **rds_params)\n",
    "    print('Connected OK - now trying to create the engine')\n",
    "    engine = sqlalchemy.create_engine(f\"postgresql+psycopg2://{rds_params['user']}:{rds_params['password']}@{rds_params['host']}:{rds_params['port']}/{rds_params['database']}\")\n",
    "    print('Created sqlalchemy engine')\n",
    "except (Exception, psycopg2.DatabaseError) as error:\n",
    "    print(f\"Error connecting to RDS: {error}\")\n"
   ]
  },
  {
   "cell_type": "code",
   "execution_count": 8,
   "metadata": {},
   "outputs": [
    {
     "data": {
      "text/plain": [
       "485"
      ]
     },
     "execution_count": 8,
     "metadata": {},
     "output_type": "execute_result"
    }
   ],
   "source": [
    "df = pd.read_csv('cleaned_dataset.csv')\n",
    "df.to_sql('football', engine, if_exists='replace')"
   ]
  },
  {
   "cell_type": "code",
   "execution_count": null,
   "metadata": {},
   "outputs": [],
   "source": []
  }
 ],
 "metadata": {
  "interpreter": {
   "hash": "e88a1a0c3d8d2b7fbd5fda69cfe9ad60bb676b2517a1f48e336cb6c7d52c7d19"
  },
  "kernelspec": {
   "display_name": "Python 3.9.7 ('datascience')",
   "language": "python",
   "name": "python3"
  },
  "language_info": {
   "codemirror_mode": {
    "name": "ipython",
    "version": 3
   },
   "file_extension": ".py",
   "mimetype": "text/x-python",
   "name": "python",
   "nbconvert_exporter": "python",
   "pygments_lexer": "ipython3",
   "version": "3.9.7"
  },
  "orig_nbformat": 4
 },
 "nbformat": 4,
 "nbformat_minor": 2
}
