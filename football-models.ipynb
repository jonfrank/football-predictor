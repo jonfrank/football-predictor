{
 "cells": [
  {
   "cell_type": "code",
   "execution_count": 1,
   "metadata": {},
   "outputs": [],
   "source": [
    "import pandas as pd\n",
    "import numpy as np\n",
    "import dtale\n",
    "from sklearn.metrics import accuracy_score\n",
    "import seaborn as sns\n",
    "import matplotlib.pyplot as plt\n",
    "%matplotlib inline"
   ]
  },
  {
   "cell_type": "code",
   "execution_count": 2,
   "metadata": {},
   "outputs": [],
   "source": [
    "from sklearn.model_selection import train_test_split\n",
    "from sklearn.metrics import confusion_matrix, accuracy_score"
   ]
  },
  {
   "cell_type": "markdown",
   "metadata": {},
   "source": [
    "# Issues with training and validation sets\n",
    "\n",
    "I'm now learning about validation sets, and realising that what I've done in this notebook uses the test set for model comparison. I need to start again ... although there's plenty of useful stuff in here."
   ]
  },
  {
   "cell_type": "code",
   "execution_count": 3,
   "metadata": {},
   "outputs": [
    {
     "data": {
      "text/plain": [
       "['season',\n",
       " 'capacity',\n",
       " 'elo_home',\n",
       " 'elo_away',\n",
       " 'home_newly_promoted',\n",
       " 'home_newly_relegated',\n",
       " 'away_newly_promoted',\n",
       " 'away_newly_relegated',\n",
       " 'home_goals_f_cum',\n",
       " 'home_goals_a_cum',\n",
       " 'away_goals_a_cum',\n",
       " 'away_goals_f_cum',\n",
       " 'home_streak',\n",
       " 'away_streak']"
      ]
     },
     "execution_count": 3,
     "metadata": {},
     "output_type": "execute_result"
    }
   ],
   "source": [
    "dataset = pd.read_csv('./cleaned_dataset.csv')\n",
    "X = dataset.drop(columns=['outcome','link'])\n",
    "y = dataset.outcome\n",
    "X.columns.to_list()"
   ]
  },
  {
   "cell_type": "code",
   "execution_count": 7,
   "metadata": {},
   "outputs": [],
   "source": [
    "X = X.drop(columns=['season','capacity','home_newly_promoted','home_newly_relegated','away_newly_promoted','away_newly_relegated'])"
   ]
  },
  {
   "cell_type": "code",
   "execution_count": 8,
   "metadata": {},
   "outputs": [],
   "source": [
    "X_train, X_test, y_train, y_test = train_test_split(X, y, test_size = 0.2, shuffle=True)\n",
    "X_test, X_val, y_test, y_val = train_test_split(X_test, y_test, test_size = 0.5)"
   ]
  },
  {
   "cell_type": "code",
   "execution_count": 9,
   "metadata": {},
   "outputs": [],
   "source": [
    "from sklearn.neural_network import MLPClassifier\n",
    "from sklearn.ensemble import RandomForestClassifier, BaggingClassifier, AdaBoostClassifier, StackingClassifier, ExtraTreesClassifier\n",
    "from sklearn.neighbors import KNeighborsClassifier\n",
    "from sklearn.model_selection import GridSearchCV"
   ]
  },
  {
   "cell_type": "code",
   "execution_count": 55,
   "metadata": {},
   "outputs": [
    {
     "name": "stdout",
     "output_type": "stream",
     "text": [
      "Multi-layer perceptron:\n",
      "test: 0.7036457824259603, train: 0.7078141035038851\n",
      "Random Forest:\n",
      "test: 0.6929918874010361, train: 0.7116869471729463\n",
      "Bagging:\n",
      "test: 0.6557521258918971, train: 0.6684992425353077\n",
      "Ada boost:\n",
      "test: 0.6870296158733261, train: 0.6936666177979768\n",
      "Extra trees:\n",
      "test: 0.6736389404750269, train: 0.6807408493378293\n",
      "K neighbours:\n",
      "test: 0.5753103313459095, train: 0.5885011972829008\n"
     ]
    }
   ],
   "source": [
    "models = {\n",
    "    'Multi-layer perceptron': [MLPClassifier(activation='logistic', hidden_layer_sizes=(50, 50),learning_rate='adaptive')],\n",
    "    'Random Forest': [RandomForestClassifier(max_depth=14, n_estimators=15)],\n",
    "    'Bagging': [BaggingClassifier(n_estimators=5, max_samples=2000)],\n",
    "    'Ada boost': [AdaBoostClassifier()],\n",
    "    # 'Stacking': [StackingClassifier()],\n",
    "    'Extra trees': [ExtraTreesClassifier(n_estimators=150, max_depth=15)],\n",
    "    'K neighbours': [KNeighborsClassifier(n_neighbors=100, weights='uniform')]\n",
    "}\n",
    "\n",
    "for model in models:\n",
    "    print(f\"{model}:\")\n",
    "    test_model = models[model][0]\n",
    "    test_model.fit(X_train, y_train)\n",
    "    acc = accuracy_score(y_test, test_model.predict(X_test))\n",
    "    train_acc = accuracy_score(y_train, test_model.predict(X_train))\n",
    "    print(f\"test: {acc}, train: {train_acc}\")\n",
    "    models[model].extend([acc, train_acc])"
   ]
  },
  {
   "cell_type": "code",
   "execution_count": 54,
   "metadata": {},
   "outputs": [
    {
     "name": "stdout",
     "output_type": "stream",
     "text": [
      "test: 0.5753103313459095, train: 0.5885011972829008\n"
     ]
    }
   ],
   "source": [
    "et = KNeighborsClassifier(n_neighbors=100, weights='uniform')\n",
    "et.fit(X_train, y_train)\n",
    "acc = accuracy_score(y_test, et.predict(X_test))\n",
    "train_acc = accuracy_score(y_train, et.predict(X_train))\n",
    "print(f\"test: {acc}, train: {train_acc}\")"
   ]
  },
  {
   "cell_type": "code",
   "execution_count": 40,
   "metadata": {},
   "outputs": [
    {
     "data": {
      "text/plain": [
       "['accuracy',\n",
       " 'adjusted_mutual_info_score',\n",
       " 'adjusted_rand_score',\n",
       " 'average_precision',\n",
       " 'balanced_accuracy',\n",
       " 'completeness_score',\n",
       " 'explained_variance',\n",
       " 'f1',\n",
       " 'f1_macro',\n",
       " 'f1_micro',\n",
       " 'f1_samples',\n",
       " 'f1_weighted',\n",
       " 'fowlkes_mallows_score',\n",
       " 'homogeneity_score',\n",
       " 'jaccard',\n",
       " 'jaccard_macro',\n",
       " 'jaccard_micro',\n",
       " 'jaccard_samples',\n",
       " 'jaccard_weighted',\n",
       " 'max_error',\n",
       " 'mutual_info_score',\n",
       " 'neg_brier_score',\n",
       " 'neg_log_loss',\n",
       " 'neg_mean_absolute_error',\n",
       " 'neg_mean_absolute_percentage_error',\n",
       " 'neg_mean_gamma_deviance',\n",
       " 'neg_mean_poisson_deviance',\n",
       " 'neg_mean_squared_error',\n",
       " 'neg_mean_squared_log_error',\n",
       " 'neg_median_absolute_error',\n",
       " 'neg_root_mean_squared_error',\n",
       " 'normalized_mutual_info_score',\n",
       " 'precision',\n",
       " 'precision_macro',\n",
       " 'precision_micro',\n",
       " 'precision_samples',\n",
       " 'precision_weighted',\n",
       " 'r2',\n",
       " 'rand_score',\n",
       " 'recall',\n",
       " 'recall_macro',\n",
       " 'recall_micro',\n",
       " 'recall_samples',\n",
       " 'recall_weighted',\n",
       " 'roc_auc',\n",
       " 'roc_auc_ovo',\n",
       " 'roc_auc_ovo_weighted',\n",
       " 'roc_auc_ovr',\n",
       " 'roc_auc_ovr_weighted',\n",
       " 'top_k_accuracy',\n",
       " 'v_measure_score']"
      ]
     },
     "execution_count": 40,
     "metadata": {},
     "output_type": "execute_result"
    }
   ],
   "source": [
    "from sklearn.metrics import SCORERS\n",
    "sorted(SCORERS.keys())"
   ]
  },
  {
   "cell_type": "code",
   "execution_count": 31,
   "metadata": {},
   "outputs": [
    {
     "name": "stdout",
     "output_type": "stream",
     "text": [
      "Fitting 5 folds for each of 12 candidates, totalling 60 fits\n",
      "[CV] END ......................max_depth=16, n_estimators=14; total time=   0.5s\n",
      "[CV] END ......................max_depth=16, n_estimators=14; total time=   0.5s\n",
      "[CV] END ......................max_depth=16, n_estimators=14; total time=   0.5s\n",
      "[CV] END ......................max_depth=16, n_estimators=14; total time=   0.5s\n",
      "[CV] END ......................max_depth=16, n_estimators=14; total time=   0.5s\n",
      "[CV] END ......................max_depth=16, n_estimators=15; total time=   0.6s\n",
      "[CV] END ......................max_depth=16, n_estimators=15; total time=   0.6s\n",
      "[CV] END ......................max_depth=16, n_estimators=15; total time=   0.6s\n",
      "[CV] END ......................max_depth=16, n_estimators=15; total time=   0.6s\n",
      "[CV] END ......................max_depth=16, n_estimators=15; total time=   0.6s\n",
      "[CV] END ......................max_depth=16, n_estimators=16; total time=   0.6s\n",
      "[CV] END ......................max_depth=16, n_estimators=16; total time=   0.6s\n",
      "[CV] END ......................max_depth=16, n_estimators=16; total time=   0.6s\n",
      "[CV] END ......................max_depth=16, n_estimators=16; total time=   0.6s\n",
      "[CV] END ......................max_depth=16, n_estimators=16; total time=   0.6s\n",
      "[CV] END ......................max_depth=18, n_estimators=14; total time=   0.6s\n",
      "[CV] END ......................max_depth=18, n_estimators=14; total time=   0.6s\n",
      "[CV] END ......................max_depth=18, n_estimators=14; total time=   0.6s\n",
      "[CV] END ......................max_depth=18, n_estimators=14; total time=   0.6s\n",
      "[CV] END ......................max_depth=18, n_estimators=14; total time=   0.6s\n",
      "[CV] END ......................max_depth=18, n_estimators=15; total time=   0.6s\n",
      "[CV] END ......................max_depth=18, n_estimators=15; total time=   0.6s\n",
      "[CV] END ......................max_depth=18, n_estimators=15; total time=   0.6s\n",
      "[CV] END ......................max_depth=18, n_estimators=15; total time=   0.6s\n",
      "[CV] END ......................max_depth=18, n_estimators=15; total time=   0.6s\n",
      "[CV] END ......................max_depth=18, n_estimators=16; total time=   0.6s\n",
      "[CV] END ......................max_depth=18, n_estimators=16; total time=   0.7s\n",
      "[CV] END ......................max_depth=18, n_estimators=16; total time=   0.6s\n",
      "[CV] END ......................max_depth=18, n_estimators=16; total time=   0.7s\n",
      "[CV] END ......................max_depth=18, n_estimators=16; total time=   0.6s\n",
      "[CV] END ......................max_depth=20, n_estimators=14; total time=   0.6s\n",
      "[CV] END ......................max_depth=20, n_estimators=14; total time=   0.6s\n",
      "[CV] END ......................max_depth=20, n_estimators=14; total time=   0.6s\n",
      "[CV] END ......................max_depth=20, n_estimators=14; total time=   0.6s\n",
      "[CV] END ......................max_depth=20, n_estimators=14; total time=   0.6s\n",
      "[CV] END ......................max_depth=20, n_estimators=15; total time=   0.7s\n",
      "[CV] END ......................max_depth=20, n_estimators=15; total time=   0.6s\n",
      "[CV] END ......................max_depth=20, n_estimators=15; total time=   0.7s\n",
      "[CV] END ......................max_depth=20, n_estimators=15; total time=   0.7s\n",
      "[CV] END ......................max_depth=20, n_estimators=15; total time=   0.7s\n",
      "[CV] END ......................max_depth=20, n_estimators=16; total time=   0.7s\n",
      "[CV] END ......................max_depth=20, n_estimators=16; total time=   0.7s\n",
      "[CV] END ......................max_depth=20, n_estimators=16; total time=   0.7s\n",
      "[CV] END ......................max_depth=20, n_estimators=16; total time=   0.7s\n",
      "[CV] END ......................max_depth=20, n_estimators=16; total time=   0.7s\n",
      "[CV] END ......................max_depth=25, n_estimators=14; total time=   0.7s\n",
      "[CV] END ......................max_depth=25, n_estimators=14; total time=   0.7s\n",
      "[CV] END ......................max_depth=25, n_estimators=14; total time=   0.7s\n",
      "[CV] END ......................max_depth=25, n_estimators=14; total time=   0.7s\n",
      "[CV] END ......................max_depth=25, n_estimators=14; total time=   0.7s\n",
      "[CV] END ......................max_depth=25, n_estimators=15; total time=   0.8s\n",
      "[CV] END ......................max_depth=25, n_estimators=15; total time=   0.7s\n",
      "[CV] END ......................max_depth=25, n_estimators=15; total time=   0.7s\n",
      "[CV] END ......................max_depth=25, n_estimators=15; total time=   0.8s\n",
      "[CV] END ......................max_depth=25, n_estimators=15; total time=   0.8s\n",
      "[CV] END ......................max_depth=25, n_estimators=16; total time=   0.8s\n",
      "[CV] END ......................max_depth=25, n_estimators=16; total time=   0.8s\n",
      "[CV] END ......................max_depth=25, n_estimators=16; total time=   0.8s\n",
      "[CV] END ......................max_depth=25, n_estimators=16; total time=   0.8s\n",
      "[CV] END ......................max_depth=25, n_estimators=16; total time=   0.8s\n"
     ]
    },
    {
     "data": {
      "text/plain": [
       "GridSearchCV(estimator=RandomForestClassifier(n_estimators=200),\n",
       "             param_grid={'max_depth': [16, 18, 20, 25],\n",
       "                         'n_estimators': [14, 15, 16]},\n",
       "             scoring='accuracy', verbose=2)"
      ]
     },
     "execution_count": 31,
     "metadata": {},
     "output_type": "execute_result"
    }
   ],
   "source": [
    "np.random.seed(2)\n",
    "# random forest GridSearch\n",
    "gs = GridSearchCV(models['Random Forest'][0],\n",
    "                  {'n_estimators':[14,15,16], 'max_depth':[16,18,20,25]},\n",
    "                  scoring='accuracy',\n",
    "                  verbose=2)\n",
    "gs.fit(X_train, y_train)"
   ]
  },
  {
   "cell_type": "code",
   "execution_count": 32,
   "metadata": {},
   "outputs": [
    {
     "name": "stdout",
     "output_type": "stream",
     "text": [
      "0.6946928391149525\n",
      "RandomForestClassifier(max_depth=16, n_estimators=15)\n"
     ]
    }
   ],
   "source": [
    "print(gs.best_score_)\n",
    "# 0.6946928391149525\n",
    "print(gs.best_estimator_)\n",
    "# RandomForestClassifier(max_depth=16, n_estimators=15)\n",
    "# but this overfits somewhat so we drop the max_depth down slightly"
   ]
  },
  {
   "cell_type": "code",
   "execution_count": 48,
   "metadata": {},
   "outputs": [
    {
     "name": "stdout",
     "output_type": "stream",
     "text": [
      "Fitting 5 folds for each of 12 candidates, totalling 60 fits\n",
      "[CV] END activation=logistic, hidden_layer_sizes=(100,), learning_rate=constant; total time=  41.4s\n",
      "[CV] END activation=logistic, hidden_layer_sizes=(100,), learning_rate=constant; total time=  38.9s\n",
      "[CV] END activation=logistic, hidden_layer_sizes=(100,), learning_rate=constant; total time=  33.9s\n",
      "[CV] END activation=logistic, hidden_layer_sizes=(100,), learning_rate=constant; total time=  58.9s\n",
      "[CV] END activation=logistic, hidden_layer_sizes=(100,), learning_rate=constant; total time=  40.7s\n",
      "[CV] END activation=logistic, hidden_layer_sizes=(100,), learning_rate=adaptive; total time=  41.6s\n",
      "[CV] END activation=logistic, hidden_layer_sizes=(100,), learning_rate=adaptive; total time=  38.3s\n",
      "[CV] END activation=logistic, hidden_layer_sizes=(100,), learning_rate=adaptive; total time=  36.8s\n",
      "[CV] END activation=logistic, hidden_layer_sizes=(100,), learning_rate=adaptive; total time=  41.4s\n",
      "[CV] END activation=logistic, hidden_layer_sizes=(100,), learning_rate=adaptive; total time=  26.2s\n",
      "[CV] END activation=logistic, hidden_layer_sizes=(50, 50), learning_rate=constant; total time= 1.1min\n",
      "[CV] END activation=logistic, hidden_layer_sizes=(50, 50), learning_rate=constant; total time= 1.5min\n",
      "[CV] END activation=logistic, hidden_layer_sizes=(50, 50), learning_rate=constant; total time= 1.9min\n",
      "[CV] END activation=logistic, hidden_layer_sizes=(50, 50), learning_rate=constant; total time=  53.6s\n",
      "[CV] END activation=logistic, hidden_layer_sizes=(50, 50), learning_rate=constant; total time= 1.4min\n",
      "[CV] END activation=logistic, hidden_layer_sizes=(50, 50), learning_rate=adaptive; total time=  47.8s\n",
      "[CV] END activation=logistic, hidden_layer_sizes=(50, 50), learning_rate=adaptive; total time= 1.0min\n",
      "[CV] END activation=logistic, hidden_layer_sizes=(50, 50), learning_rate=adaptive; total time=  56.7s\n",
      "[CV] END activation=logistic, hidden_layer_sizes=(50, 50), learning_rate=adaptive; total time=  59.3s\n",
      "[CV] END activation=logistic, hidden_layer_sizes=(50, 50), learning_rate=adaptive; total time=  57.6s\n",
      "[CV] END activation=tanh, hidden_layer_sizes=(100,), learning_rate=constant; total time=  35.5s\n",
      "[CV] END activation=tanh, hidden_layer_sizes=(100,), learning_rate=constant; total time=  44.3s\n",
      "[CV] END activation=tanh, hidden_layer_sizes=(100,), learning_rate=constant; total time=  52.4s\n",
      "[CV] END activation=tanh, hidden_layer_sizes=(100,), learning_rate=constant; total time=  35.9s\n",
      "[CV] END activation=tanh, hidden_layer_sizes=(100,), learning_rate=constant; total time=  35.8s\n",
      "[CV] END activation=tanh, hidden_layer_sizes=(100,), learning_rate=adaptive; total time=  48.8s\n",
      "[CV] END activation=tanh, hidden_layer_sizes=(100,), learning_rate=adaptive; total time=  53.5s\n",
      "[CV] END activation=tanh, hidden_layer_sizes=(100,), learning_rate=adaptive; total time=  40.5s\n",
      "[CV] END activation=tanh, hidden_layer_sizes=(100,), learning_rate=adaptive; total time=  38.2s\n",
      "[CV] END activation=tanh, hidden_layer_sizes=(100,), learning_rate=adaptive; total time=  46.2s\n",
      "[CV] END activation=tanh, hidden_layer_sizes=(50, 50), learning_rate=constant; total time= 1.3min\n",
      "[CV] END activation=tanh, hidden_layer_sizes=(50, 50), learning_rate=constant; total time= 1.2min\n",
      "[CV] END activation=tanh, hidden_layer_sizes=(50, 50), learning_rate=constant; total time= 1.1min\n",
      "[CV] END activation=tanh, hidden_layer_sizes=(50, 50), learning_rate=constant; total time= 1.1min\n",
      "[CV] END activation=tanh, hidden_layer_sizes=(50, 50), learning_rate=constant; total time= 1.3min\n",
      "[CV] END activation=tanh, hidden_layer_sizes=(50, 50), learning_rate=adaptive; total time= 1.1min\n",
      "[CV] END activation=tanh, hidden_layer_sizes=(50, 50), learning_rate=adaptive; total time=  59.8s\n",
      "[CV] END activation=tanh, hidden_layer_sizes=(50, 50), learning_rate=adaptive; total time= 1.0min\n",
      "[CV] END activation=tanh, hidden_layer_sizes=(50, 50), learning_rate=adaptive; total time=  58.6s\n",
      "[CV] END activation=tanh, hidden_layer_sizes=(50, 50), learning_rate=adaptive; total time= 1.1min\n",
      "[CV] END activation=relu, hidden_layer_sizes=(100,), learning_rate=constant; total time=  47.0s\n",
      "[CV] END activation=relu, hidden_layer_sizes=(100,), learning_rate=constant; total time=  45.0s\n",
      "[CV] END activation=relu, hidden_layer_sizes=(100,), learning_rate=constant; total time=  39.4s\n",
      "[CV] END activation=relu, hidden_layer_sizes=(100,), learning_rate=constant; total time=  36.0s\n",
      "[CV] END activation=relu, hidden_layer_sizes=(100,), learning_rate=constant; total time=  30.2s\n",
      "[CV] END activation=relu, hidden_layer_sizes=(100,), learning_rate=adaptive; total time=  41.2s\n",
      "[CV] END activation=relu, hidden_layer_sizes=(100,), learning_rate=adaptive; total time=  38.5s\n",
      "[CV] END activation=relu, hidden_layer_sizes=(100,), learning_rate=adaptive; total time=  38.9s\n",
      "[CV] END activation=relu, hidden_layer_sizes=(100,), learning_rate=adaptive; total time=  39.0s\n",
      "[CV] END activation=relu, hidden_layer_sizes=(100,), learning_rate=adaptive; total time=  40.3s\n",
      "[CV] END activation=relu, hidden_layer_sizes=(50, 50), learning_rate=constant; total time=  55.9s\n",
      "[CV] END activation=relu, hidden_layer_sizes=(50, 50), learning_rate=constant; total time=  53.0s\n",
      "[CV] END activation=relu, hidden_layer_sizes=(50, 50), learning_rate=constant; total time=  52.7s\n",
      "[CV] END activation=relu, hidden_layer_sizes=(50, 50), learning_rate=constant; total time=  42.1s\n",
      "[CV] END activation=relu, hidden_layer_sizes=(50, 50), learning_rate=constant; total time=  54.8s\n",
      "[CV] END activation=relu, hidden_layer_sizes=(50, 50), learning_rate=adaptive; total time=  53.1s\n",
      "[CV] END activation=relu, hidden_layer_sizes=(50, 50), learning_rate=adaptive; total time=  54.0s\n",
      "[CV] END activation=relu, hidden_layer_sizes=(50, 50), learning_rate=adaptive; total time=  54.9s\n",
      "[CV] END activation=relu, hidden_layer_sizes=(50, 50), learning_rate=adaptive; total time= 1.3min\n",
      "[CV] END activation=relu, hidden_layer_sizes=(50, 50), learning_rate=adaptive; total time=  55.3s\n"
     ]
    },
    {
     "data": {
      "text/plain": [
       "GridSearchCV(estimator=MLPClassifier(),\n",
       "             param_grid={'activation': ['logistic', 'tanh', 'relu'],\n",
       "                         'hidden_layer_sizes': [(100,), (50, 50)],\n",
       "                         'learning_rate': ['constant', 'adaptive']},\n",
       "             scoring='accuracy', verbose=2)"
      ]
     },
     "execution_count": 48,
     "metadata": {},
     "output_type": "execute_result"
    }
   ],
   "source": [
    "# MLP gridsearch\n",
    "gs = GridSearchCV(models['Multi-layer perceptron'][0],\n",
    "                  {'activation':['logistic','tanh','relu'], 'hidden_layer_sizes':[(100,),(50,50)], 'learning_rate':['constant','adaptive']},\n",
    "                  scoring='accuracy',\n",
    "                  verbose=2)\n",
    "gs.fit(X_train, y_train)"
   ]
  },
  {
   "cell_type": "code",
   "execution_count": 49,
   "metadata": {},
   "outputs": [
    {
     "name": "stdout",
     "output_type": "stream",
     "text": [
      "0.7044543461856337\n",
      "MLPClassifier(activation='logistic', hidden_layer_sizes=(50, 50),\n",
      "              learning_rate='adaptive')\n"
     ]
    }
   ],
   "source": [
    "print(gs.best_score_)\n",
    "print(gs.best_estimator_)\n",
    "\n",
    "# 0.7044543461856337\n",
    "# MLPClassifier(activation='logistic', hidden_layer_sizes=(50, 50),\n",
    "            #   learning_rate='adaptive')"
   ]
  },
  {
   "cell_type": "markdown",
   "metadata": {},
   "source": [
    "# Original model tests follow below"
   ]
  },
  {
   "cell_type": "code",
   "execution_count": 9,
   "metadata": {},
   "outputs": [],
   "source": [
    "from sklearn.neural_network import MLPClassifier\n",
    "mlpc = MLPClassifier(max_iter=500).fit(X_train, y_train)"
   ]
  },
  {
   "cell_type": "code",
   "execution_count": 10,
   "metadata": {},
   "outputs": [
    {
     "data": {
      "text/plain": [
       "0.7000439818208474"
      ]
     },
     "execution_count": 10,
     "metadata": {},
     "output_type": "execute_result"
    }
   ],
   "source": [
    "mlpc.score(X_test, y_test)"
   ]
  },
  {
   "cell_type": "code",
   "execution_count": 11,
   "metadata": {},
   "outputs": [
    {
     "data": {
      "text/plain": [
       "0.7061647852221082"
      ]
     },
     "execution_count": 11,
     "metadata": {},
     "output_type": "execute_result"
    }
   ],
   "source": [
    "mlpc.score(X_train, y_train)"
   ]
  },
  {
   "cell_type": "code",
   "execution_count": 12,
   "metadata": {},
   "outputs": [
    {
     "data": {
      "text/plain": [
       "array([[ 207,  835,  794,   97],\n",
       "       [  11, 2332, 1316,  176],\n",
       "       [  26, 1523, 7790,   75],\n",
       "       [  10,  946,  329, 3996]])"
      ]
     },
     "execution_count": 12,
     "metadata": {},
     "output_type": "execute_result"
    }
   ],
   "source": [
    "y_pred = mlpc.predict(X_test)\n",
    "confusion_matrix(y_test, y_pred)"
   ]
  },
  {
   "cell_type": "code",
   "execution_count": 13,
   "metadata": {},
   "outputs": [
    {
     "data": {
      "text/plain": [
       "(array([[1.02588921e-01, 2.94758105e-01, 5.40734721e-01, 6.19182527e-02],\n",
       "        [1.02119347e-01, 2.31756213e-01, 6.21553591e-01, 4.45708489e-02],\n",
       "        [3.14062226e-07, 7.70203785e-07, 2.19858288e-06, 9.99996717e-01],\n",
       "        [1.33566536e-01, 3.64283463e-01, 3.18564182e-01, 1.83585819e-01],\n",
       "        [1.44005586e-04, 1.07845330e-05, 9.99844153e-01, 1.05660054e-06]]),\n",
       " 64715    2\n",
       " 32278    3\n",
       " 4942     4\n",
       " 71178    2\n",
       " 59072    3\n",
       " Name: outcome, dtype: int64)"
      ]
     },
     "execution_count": 13,
     "metadata": {},
     "output_type": "execute_result"
    }
   ],
   "source": [
    "mlpc.predict_proba(X_test[:5]), y_test[:5]"
   ]
  },
  {
   "cell_type": "markdown",
   "metadata": {},
   "source": [
    "### k-fold cross-validation"
   ]
  },
  {
   "cell_type": "code",
   "execution_count": 14,
   "metadata": {},
   "outputs": [],
   "source": [
    "import numpy as np\n",
    "from sklearn.model_selection import KFold"
   ]
  },
  {
   "cell_type": "code",
   "execution_count": 15,
   "metadata": {},
   "outputs": [],
   "source": [
    "# huh? dunno what's going on here\n",
    "\n",
    "# kf = KFold(n_splits=5)\n",
    "# for train_index, test_index in kf.split(X):\n",
    "#     X_train, X_test = X[train_index], X[test_index]\n",
    "#     y_train, y_test = y[train_index], y[test_index]\n",
    "#     kf_mlpc = MLPClassifier(max_iter=500).fit(X_train, y_train)\n",
    "#     print(kf_mlpc.score(X_test, y_test))"
   ]
  },
  {
   "cell_type": "markdown",
   "metadata": {},
   "source": [
    "## try it without promotion / relegation features:"
   ]
  },
  {
   "cell_type": "code",
   "execution_count": 16,
   "metadata": {},
   "outputs": [
    {
     "data": {
      "text/plain": [
       "Index(['elo_home', 'elo_away', 'home_streak', 'away_streak'], dtype='object')"
      ]
     },
     "execution_count": 16,
     "metadata": {},
     "output_type": "execute_result"
    }
   ],
   "source": [
    "X_slim = X.drop(columns=['home_newly_relegated','away_newly_relegated','home_newly_promoted','away_newly_promoted','capacity','season','home_goals_a_cum','home_goals_f_cum','away_goals_f_cum','away_goals_a_cum'])\n",
    "X_slim.columns"
   ]
  },
  {
   "cell_type": "code",
   "execution_count": 17,
   "metadata": {},
   "outputs": [],
   "source": [
    "X_train, X_test, y_train, y_test = train_test_split(X_slim, y, test_size = 0.2, shuffle=True)\n",
    "mlpc_slim = MLPClassifier(max_iter=500).fit(X_train, y_train)"
   ]
  },
  {
   "cell_type": "code",
   "execution_count": 18,
   "metadata": {},
   "outputs": [
    {
     "data": {
      "text/plain": [
       "0.6382739578751894"
      ]
     },
     "execution_count": 18,
     "metadata": {},
     "output_type": "execute_result"
    }
   ],
   "source": [
    "mlpc_slim.score(X_test, y_test)"
   ]
  },
  {
   "cell_type": "code",
   "execution_count": 19,
   "metadata": {},
   "outputs": [
    {
     "data": {
      "text/plain": [
       "array([3])"
      ]
     },
     "execution_count": 19,
     "metadata": {},
     "output_type": "execute_result"
    }
   ],
   "source": [
    "# Brighton v Norwich 2/4/22\n",
    "mlpc_slim.predict([[1698.68762207, 1598.51208496, -6, -6]])"
   ]
  },
  {
   "cell_type": "markdown",
   "metadata": {},
   "source": [
    "## Random forest"
   ]
  },
  {
   "cell_type": "code",
   "execution_count": 20,
   "metadata": {},
   "outputs": [
    {
     "data": {
      "text/plain": [
       "Index(['season', 'capacity', 'elo_home', 'elo_away', 'home_newly_promoted',\n",
       "       'home_newly_relegated', 'away_newly_promoted', 'away_newly_relegated',\n",
       "       'home_goals_f_cum', 'home_goals_a_cum', 'away_goals_a_cum',\n",
       "       'away_goals_f_cum', 'home_streak', 'away_streak'],\n",
       "      dtype='object')"
      ]
     },
     "execution_count": 20,
     "metadata": {},
     "output_type": "execute_result"
    }
   ],
   "source": [
    "X_train, X_test, y_train, y_test = train_test_split(X, y, test_size = 0.2, shuffle=True)\n",
    "X.columns"
   ]
  },
  {
   "cell_type": "code",
   "execution_count": 21,
   "metadata": {},
   "outputs": [
    {
     "data": {
      "text/plain": [
       "0.7002883252699995"
      ]
     },
     "execution_count": 21,
     "metadata": {},
     "output_type": "execute_result"
    }
   ],
   "source": [
    "from sklearn.ensemble import RandomForestClassifier\n",
    "rfcl = RandomForestClassifier(max_depth=20).fit(X_train, y_train)\n",
    "rfcl.score(X_test, y_test)"
   ]
  },
  {
   "cell_type": "code",
   "execution_count": 22,
   "metadata": {},
   "outputs": [
    {
     "data": {
      "text/plain": [
       "array([0.027425  , 0.03378521, 0.03394168, 0.0369002 , 0.0035453 ,\n",
       "       0.00160434, 0.00331108, 0.00161485, 0.06338564, 0.0577055 ,\n",
       "       0.06779692, 0.06164832, 0.30635235, 0.30098362])"
      ]
     },
     "execution_count": 22,
     "metadata": {},
     "output_type": "execute_result"
    }
   ],
   "source": [
    "# feature importances\n",
    "rfcl.feature_importances_"
   ]
  },
  {
   "cell_type": "code",
   "execution_count": 23,
   "metadata": {},
   "outputs": [
    {
     "data": {
      "image/png": "[encoded data removed]",
      "text/plain": [
       "<Figure size 1080x504 with 1 Axes>"
      ]
     },
     "metadata": {
      "needs_background": "light"
     },
     "output_type": "display_data"
    }
   ],
   "source": [
    "ax, fig = plt.subplots(figsize=[15,7])\n",
    "sns.barplot(X.columns, rfcl.feature_importances_)\n",
    "plt.xticks(rotation=30, horizontalalignment='right')\n",
    "plt.tight_layout()"
   ]
  },
  {
   "cell_type": "markdown",
   "metadata": {},
   "source": [
    "## Random Forest with just home/away streak, cumulative goals, and ELOs"
   ]
  },
  {
   "cell_type": "code",
   "execution_count": 24,
   "metadata": {},
   "outputs": [],
   "source": [
    "X_streaks = X[['elo_home', 'elo_away', \n",
    "       'home_goals_f_cum', 'home_goals_a_cum', 'away_goals_a_cum',\n",
    "       'away_goals_f_cum', \n",
    "       'home_streak', 'away_streak']]"
   ]
  },
  {
   "cell_type": "code",
   "execution_count": 25,
   "metadata": {},
   "outputs": [
    {
     "data": {
      "text/plain": [
       "Index(['elo_home', 'elo_away', 'home_goals_f_cum', 'home_goals_a_cum',\n",
       "       'away_goals_a_cum', 'away_goals_f_cum', 'home_streak', 'away_streak'],\n",
       "      dtype='object')"
      ]
     },
     "execution_count": 25,
     "metadata": {},
     "output_type": "execute_result"
    }
   ],
   "source": [
    "X_train, X_test, y_train, y_test = train_test_split(X_streaks, y, test_size = 0.2, shuffle=True)\n",
    "X_train.columns"
   ]
  },
  {
   "cell_type": "code",
   "execution_count": 26,
   "metadata": {},
   "outputs": [
    {
     "data": {
      "text/plain": [
       "0.6971607291208523"
      ]
     },
     "execution_count": 26,
     "metadata": {},
     "output_type": "execute_result"
    }
   ],
   "source": [
    "rfcl_streaks = RandomForestClassifier(max_depth=20).fit(X_train, y_train)\n",
    "rfcl_streaks.score(X_test, y_test)"
   ]
  },
  {
   "cell_type": "code",
   "execution_count": 27,
   "metadata": {},
   "outputs": [
    {
     "data": {
      "text/plain": [
       "array([4])"
      ]
     },
     "execution_count": 27,
     "metadata": {},
     "output_type": "execute_result"
    }
   ],
   "source": [
    "# Brighton v Norwich 2/4/22\n",
    "rfcl_streaks.predict([[1698.68762207, 1598.51208496, 26, 36, 18, 63, -6, -6]])"
   ]
  },
  {
   "cell_type": "markdown",
   "metadata": {},
   "source": [
    "# Lasso regression?"
   ]
  },
  {
   "cell_type": "code",
   "execution_count": 4,
   "metadata": {},
   "outputs": [
    {
     "data": {
      "text/plain": [
       "Lasso(alpha=0.1)"
      ]
     },
     "execution_count": 4,
     "metadata": {},
     "output_type": "execute_result"
    }
   ],
   "source": [
    "from sklearn.linear_model import Lasso\n",
    "lasso = Lasso(alpha=0.1)\n",
    "lasso.fit(X, y)"
   ]
  },
  {
   "cell_type": "code",
   "execution_count": 5,
   "metadata": {},
   "outputs": [
    {
     "name": "stdout",
     "output_type": "stream",
     "text": [
      "[-0.00226391  0.          0.          0.0025078   0.         -0.\n",
      "  0.         -0.         -0.00345     0.00940341 -0.00467218  0.01181737\n",
      " -0.0294981   0.04137891]\n",
      "2.655572647560075\n"
     ]
    }
   ],
   "source": [
    "print(lasso.coef_)\n",
    "print(lasso.intercept_)"
   ]
  },
  {
   "cell_type": "code",
   "execution_count": 6,
   "metadata": {},
   "outputs": [
    {
     "data": {
      "text/plain": [
       "Index(['season', 'capacity', 'elo_home', 'elo_away', 'home_newly_promoted',\n",
       "       'home_newly_relegated', 'away_newly_promoted', 'away_newly_relegated',\n",
       "       'home_goals_f_cum', 'home_goals_a_cum', 'away_goals_a_cum',\n",
       "       'away_goals_f_cum', 'home_streak', 'away_streak'],\n",
       "      dtype='object')"
      ]
     },
     "execution_count": 6,
     "metadata": {},
     "output_type": "execute_result"
    }
   ],
   "source": [
    "X.columns"
   ]
  },
  {
   "cell_type": "code",
   "execution_count": null,
   "metadata": {},
   "outputs": [],
   "source": [
    "# suggests dropping the following features:\n",
    "# capacity, elo_home, all newly promoted/relegated"
   ]
  }
 ],
 "metadata": {
  "interpreter": {
   "hash": "e88a1a0c3d8d2b7fbd5fda69cfe9ad60bb676b2517a1f48e336cb6c7d52c7d19"
  },
  "kernelspec": {
   "display_name": "Python 3.9.7 ('datascience')",
   "language": "python",
   "name": "python3"
  },
  "language_info": {
   "codemirror_mode": {
    "name": "ipython",
    "version": 3
   },
   "file_extension": ".py",
   "mimetype": "text/x-python",
   "name": "python",
   "nbconvert_exporter": "python",
   "pygments_lexer": "ipython3",
   "version": "3.9.7"
  },
  "orig_nbformat": 4
 },
 "nbformat": 4,
 "nbformat_minor": 2
}
