{
 "cells": [
  {
   "cell_type": "code",
   "execution_count": 1,
   "metadata": {},
   "outputs": [],
   "source": [
    "import pandas as pd\n",
    "import numpy as np\n",
    "import dtale\n",
    "from sklearn.metrics import accuracy_score\n",
    "import seaborn as sns\n",
    "import matplotlib.pyplot as plt\n",
    "%matplotlib inline\n",
    "from sklearn.model_selection import train_test_split\n",
    "from sklearn.metrics import confusion_matrix, accuracy_score, plot_confusion_matrix\n",
    "from sklearn.neural_network import MLPClassifier\n",
    "from sklearn.ensemble import RandomForestClassifier, BaggingClassifier, AdaBoostClassifier, StackingClassifier, ExtraTreesClassifier\n",
    "from sklearn.neighbors import KNeighborsClassifier\n",
    "from sklearn.model_selection import GridSearchCV, RandomizedSearchCV\n",
    "from scipy.stats.distributions import uniform"
   ]
  },
  {
   "cell_type": "code",
   "execution_count": 2,
   "metadata": {},
   "outputs": [
    {
     "data": {
      "text/plain": [
       "['season',\n",
       " 'capacity',\n",
       " 'elo_home',\n",
       " 'elo_away',\n",
       " 'home_newly_promoted',\n",
       " 'home_newly_relegated',\n",
       " 'away_newly_promoted',\n",
       " 'away_newly_relegated',\n",
       " 'home_goals_f_cum',\n",
       " 'home_goals_a_cum',\n",
       " 'away_goals_a_cum',\n",
       " 'away_goals_f_cum',\n",
       " 'home_streak',\n",
       " 'away_streak']"
      ]
     },
     "execution_count": 2,
     "metadata": {},
     "output_type": "execute_result"
    }
   ],
   "source": [
    "# Load dataset and check columns (features) available\n",
    "# target (match outcome) is 1=no-score draw, 2=score draw, 3=home win, 4=away win\n",
    "dataset = pd.read_csv('./cleaned_dataset.csv')\n",
    "X = dataset.drop(columns=['outcome','link'])\n",
    "y = dataset.outcome\n",
    "X.columns.to_list()"
   ]
  },
  {
   "cell_type": "markdown",
   "metadata": {},
   "source": [
    "## Lasso regression\n",
    "\n",
    "to see which features might be worth dropping"
   ]
  },
  {
   "cell_type": "code",
   "execution_count": 3,
   "metadata": {},
   "outputs": [
    {
     "name": "stdout",
     "output_type": "stream",
     "text": [
      "[-0.00226391  0.          0.          0.0025078   0.         -0.\n",
      "  0.         -0.         -0.00345     0.00940341 -0.00467218  0.01181737\n",
      " -0.0294981   0.04137891]\n"
     ]
    }
   ],
   "source": [
    "from sklearn.linear_model import Lasso\n",
    "lasso = Lasso(alpha=0.1)\n",
    "lasso.fit(X, y)\n",
    "print(lasso.coef_)"
   ]
  },
  {
   "cell_type": "code",
   "execution_count": 4,
   "metadata": {},
   "outputs": [],
   "source": [
    "# drop columns for which lasso coefficient is 0\n",
    "# except elo_home ... feels like we ought to keep the Elo coefficients\n",
    "X = X.drop(columns=['season','capacity','home_newly_promoted','away_newly_promoted','home_newly_relegated','away_newly_relegated'])"
   ]
  },
  {
   "cell_type": "code",
   "execution_count": 5,
   "metadata": {},
   "outputs": [],
   "source": [
    "# prep to scale data\n",
    "from sklearn.preprocessing import StandardScaler\n",
    "scaler = StandardScaler()"
   ]
  },
  {
   "cell_type": "code",
   "execution_count": 6,
   "metadata": {},
   "outputs": [],
   "source": [
    "# scale data and create train, test and validation sets\n",
    "X_train, X_test, y_train, y_test = train_test_split(X, y, test_size = 0.2, shuffle=True)\n",
    "X_train = scaler.fit_transform(X_train)\n",
    "X_test = scaler.transform(X_test)\n",
    "X_test, X_val, y_test, y_val = train_test_split(X_test, y_test, test_size = 0.5)"
   ]
  },
  {
   "cell_type": "code",
   "execution_count": 7,
   "metadata": {},
   "outputs": [
    {
     "data": {
      "text/plain": [
       "['accuracy',\n",
       " 'adjusted_mutual_info_score',\n",
       " 'adjusted_rand_score',\n",
       " 'average_precision',\n",
       " 'balanced_accuracy',\n",
       " 'completeness_score',\n",
       " 'explained_variance',\n",
       " 'f1',\n",
       " 'f1_macro',\n",
       " 'f1_micro',\n",
       " 'f1_samples',\n",
       " 'f1_weighted',\n",
       " 'fowlkes_mallows_score',\n",
       " 'homogeneity_score',\n",
       " 'jaccard',\n",
       " 'jaccard_macro',\n",
       " 'jaccard_micro',\n",
       " 'jaccard_samples',\n",
       " 'jaccard_weighted',\n",
       " 'max_error',\n",
       " 'mutual_info_score',\n",
       " 'neg_brier_score',\n",
       " 'neg_log_loss',\n",
       " 'neg_mean_absolute_error',\n",
       " 'neg_mean_absolute_percentage_error',\n",
       " 'neg_mean_gamma_deviance',\n",
       " 'neg_mean_poisson_deviance',\n",
       " 'neg_mean_squared_error',\n",
       " 'neg_mean_squared_log_error',\n",
       " 'neg_median_absolute_error',\n",
       " 'neg_root_mean_squared_error',\n",
       " 'normalized_mutual_info_score',\n",
       " 'precision',\n",
       " 'precision_macro',\n",
       " 'precision_micro',\n",
       " 'precision_samples',\n",
       " 'precision_weighted',\n",
       " 'r2',\n",
       " 'rand_score',\n",
       " 'recall',\n",
       " 'recall_macro',\n",
       " 'recall_micro',\n",
       " 'recall_samples',\n",
       " 'recall_weighted',\n",
       " 'roc_auc',\n",
       " 'roc_auc_ovo',\n",
       " 'roc_auc_ovo_weighted',\n",
       " 'roc_auc_ovr',\n",
       " 'roc_auc_ovr_weighted',\n",
       " 'top_k_accuracy',\n",
       " 'v_measure_score']"
      ]
     },
     "execution_count": 7,
     "metadata": {},
     "output_type": "execute_result"
    }
   ],
   "source": [
    "# discover which metrics are available when using GridSearchCV\n",
    "from sklearn.metrics import SCORERS\n",
    "sorted(SCORERS.keys())"
   ]
  },
  {
   "cell_type": "markdown",
   "metadata": {},
   "source": [
    "## Randomized search for random forest"
   ]
  },
  {
   "cell_type": "code",
   "execution_count": 35,
   "metadata": {},
   "outputs": [
    {
     "name": "stdout",
     "output_type": "stream",
     "text": [
      "Fitting 5 folds for each of 10 candidates, totalling 50 fits\n",
      "[CV] END .......................max_depth=42, n_estimators=4; total time=   0.2s\n",
      "[CV] END .......................max_depth=42, n_estimators=4; total time=   0.2s\n",
      "[CV] END .......................max_depth=42, n_estimators=4; total time=   0.2s\n",
      "[CV] END .......................max_depth=42, n_estimators=4; total time=   0.2s\n",
      "[CV] END .......................max_depth=42, n_estimators=4; total time=   0.2s\n",
      "[CV] END .......................max_depth=19, n_estimators=6; total time=   0.2s\n",
      "[CV] END .......................max_depth=19, n_estimators=6; total time=   0.2s\n",
      "[CV] END .......................max_depth=19, n_estimators=6; total time=   0.2s\n",
      "[CV] END .......................max_depth=19, n_estimators=6; total time=   0.2s\n",
      "[CV] END .......................max_depth=19, n_estimators=6; total time=   0.2s\n",
      "[CV] END .......................max_depth=18, n_estimators=1; total time=   0.0s\n",
      "[CV] END .......................max_depth=18, n_estimators=1; total time=   0.0s\n",
      "[CV] END .......................max_depth=18, n_estimators=1; total time=   0.0s\n",
      "[CV] END .......................max_depth=18, n_estimators=1; total time=   0.0s\n",
      "[CV] END .......................max_depth=18, n_estimators=1; total time=   0.0s\n",
      "[CV] END ......................max_depth=11, n_estimators=10; total time=   0.3s\n",
      "[CV] END ......................max_depth=11, n_estimators=10; total time=   0.2s\n",
      "[CV] END ......................max_depth=11, n_estimators=10; total time=   0.3s\n",
      "[CV] END ......................max_depth=11, n_estimators=10; total time=   0.3s\n",
      "[CV] END ......................max_depth=11, n_estimators=10; total time=   0.2s\n",
      "[CV] END .......................max_depth=17, n_estimators=3; total time=   0.1s\n",
      "[CV] END .......................max_depth=17, n_estimators=3; total time=   0.1s\n",
      "[CV] END .......................max_depth=17, n_estimators=3; total time=   0.1s\n",
      "[CV] END .......................max_depth=17, n_estimators=3; total time=   0.1s\n",
      "[CV] END .......................max_depth=17, n_estimators=3; total time=   0.1s\n",
      "[CV] END ......................max_depth=38, n_estimators=27; total time=   1.2s\n",
      "[CV] END ......................max_depth=38, n_estimators=27; total time=   1.2s\n",
      "[CV] END ......................max_depth=38, n_estimators=27; total time=   1.2s\n",
      "[CV] END ......................max_depth=38, n_estimators=27; total time=   1.2s\n",
      "[CV] END ......................max_depth=38, n_estimators=27; total time=   1.2s\n",
      "[CV] END ......................max_depth=13, n_estimators=13; total time=   0.4s\n",
      "[CV] END ......................max_depth=13, n_estimators=13; total time=   0.4s\n",
      "[CV] END ......................max_depth=13, n_estimators=13; total time=   0.4s\n",
      "[CV] END ......................max_depth=13, n_estimators=13; total time=   0.4s\n",
      "[CV] END ......................max_depth=13, n_estimators=13; total time=   0.4s\n",
      "[CV] END ......................max_depth=45, n_estimators=12; total time=   0.5s\n",
      "[CV] END ......................max_depth=45, n_estimators=12; total time=   0.5s\n",
      "[CV] END ......................max_depth=45, n_estimators=12; total time=   0.5s\n",
      "[CV] END ......................max_depth=45, n_estimators=12; total time=   0.5s\n",
      "[CV] END ......................max_depth=45, n_estimators=12; total time=   0.5s\n",
      "[CV] END .......................max_depth=24, n_estimators=8; total time=   0.3s\n",
      "[CV] END .......................max_depth=24, n_estimators=8; total time=   0.3s\n",
      "[CV] END .......................max_depth=24, n_estimators=8; total time=   0.3s\n",
      "[CV] END .......................max_depth=24, n_estimators=8; total time=   0.3s\n",
      "[CV] END .......................max_depth=24, n_estimators=8; total time=   0.3s\n",
      "[CV] END ......................max_depth=15, n_estimators=28; total time=   0.8s\n",
      "[CV] END ......................max_depth=15, n_estimators=28; total time=   0.8s\n",
      "[CV] END ......................max_depth=15, n_estimators=28; total time=   0.8s\n",
      "[CV] END ......................max_depth=15, n_estimators=28; total time=   0.8s\n",
      "[CV] END ......................max_depth=15, n_estimators=28; total time=   0.8s\n"
     ]
    },
    {
     "data": {
      "text/plain": [
       "RandomizedSearchCV(estimator=RandomForestClassifier(),\n",
       "                   param_distributions={'max_depth': range(1, 50),\n",
       "                                        'n_estimators': range(1, 30)},\n",
       "                   scoring='accuracy', verbose=2)"
      ]
     },
     "execution_count": 35,
     "metadata": {},
     "output_type": "execute_result"
    }
   ],
   "source": [
    "np.random.seed(2)\n",
    "# random forest GridSearch\n",
    "gs = RandomizedSearchCV(RandomForestClassifier(),\n",
    "                  {'n_estimators':range(1,30), 'max_depth':range(1,50)},\n",
    "                  scoring='accuracy',\n",
    "                  verbose=2)\n",
    "gs.fit(X_train, y_train)"
   ]
  },
  {
   "cell_type": "code",
   "execution_count": 36,
   "metadata": {},
   "outputs": [
    {
     "name": "stdout",
     "output_type": "stream",
     "text": [
      "0.6974294958974155\n",
      "RandomForestClassifier(max_depth=15, n_estimators=28)\n"
     ]
    }
   ],
   "source": [
    "print(gs.best_score_)\n",
    "print(gs.best_estimator_)"
   ]
  },
  {
   "cell_type": "markdown",
   "metadata": {},
   "source": [
    "## Grid search for random forest"
   ]
  },
  {
   "cell_type": "code",
   "execution_count": 30,
   "metadata": {},
   "outputs": [
    {
     "name": "stdout",
     "output_type": "stream",
     "text": [
      "Fitting 5 folds for each of 25 candidates, totalling 125 fits\n",
      "[CV] END ......................max_depth=11, n_estimators=20; total time=   0.5s\n",
      "[CV] END ......................max_depth=11, n_estimators=20; total time=   0.5s\n",
      "[CV] END ......................max_depth=11, n_estimators=20; total time=   0.5s\n",
      "[CV] END ......................max_depth=11, n_estimators=20; total time=   0.5s\n",
      "[CV] END ......................max_depth=11, n_estimators=20; total time=   0.5s\n",
      "[CV] END ......................max_depth=11, n_estimators=25; total time=   0.6s\n",
      "[CV] END ......................max_depth=11, n_estimators=25; total time=   0.6s\n",
      "[CV] END ......................max_depth=11, n_estimators=25; total time=   0.6s\n",
      "[CV] END ......................max_depth=11, n_estimators=25; total time=   0.6s\n",
      "[CV] END ......................max_depth=11, n_estimators=25; total time=   0.6s\n",
      "[CV] END ......................max_depth=11, n_estimators=28; total time=   0.7s\n",
      "[CV] END ......................max_depth=11, n_estimators=28; total time=   0.7s\n",
      "[CV] END ......................max_depth=11, n_estimators=28; total time=   0.7s\n",
      "[CV] END ......................max_depth=11, n_estimators=28; total time=   0.7s\n",
      "[CV] END ......................max_depth=11, n_estimators=28; total time=   0.7s\n",
      "[CV] END ......................max_depth=11, n_estimators=30; total time=   0.7s\n",
      "[CV] END ......................max_depth=11, n_estimators=30; total time=   0.7s\n",
      "[CV] END ......................max_depth=11, n_estimators=30; total time=   0.7s\n",
      "[CV] END ......................max_depth=11, n_estimators=30; total time=   0.8s\n",
      "[CV] END ......................max_depth=11, n_estimators=30; total time=   0.7s\n",
      "[CV] END ......................max_depth=11, n_estimators=35; total time=   0.9s\n",
      "[CV] END ......................max_depth=11, n_estimators=35; total time=   0.9s\n",
      "[CV] END ......................max_depth=11, n_estimators=35; total time=   0.9s\n",
      "[CV] END ......................max_depth=11, n_estimators=35; total time=   0.9s\n",
      "[CV] END ......................max_depth=11, n_estimators=35; total time=   0.9s\n",
      "[CV] END ......................max_depth=13, n_estimators=20; total time=   0.6s\n",
      "[CV] END ......................max_depth=13, n_estimators=20; total time=   0.6s\n",
      "[CV] END ......................max_depth=13, n_estimators=20; total time=   0.6s\n",
      "[CV] END ......................max_depth=13, n_estimators=20; total time=   0.6s\n",
      "[CV] END ......................max_depth=13, n_estimators=20; total time=   0.6s\n",
      "[CV] END ......................max_depth=13, n_estimators=25; total time=   0.7s\n",
      "[CV] END ......................max_depth=13, n_estimators=25; total time=   0.7s\n",
      "[CV] END ......................max_depth=13, n_estimators=25; total time=   0.7s\n",
      "[CV] END ......................max_depth=13, n_estimators=25; total time=   0.7s\n",
      "[CV] END ......................max_depth=13, n_estimators=25; total time=   0.7s\n",
      "[CV] END ......................max_depth=13, n_estimators=28; total time=   0.8s\n",
      "[CV] END ......................max_depth=13, n_estimators=28; total time=   0.8s\n",
      "[CV] END ......................max_depth=13, n_estimators=28; total time=   0.8s\n",
      "[CV] END ......................max_depth=13, n_estimators=28; total time=   0.8s\n",
      "[CV] END ......................max_depth=13, n_estimators=28; total time=   0.8s\n",
      "[CV] END ......................max_depth=13, n_estimators=30; total time=   0.8s\n",
      "[CV] END ......................max_depth=13, n_estimators=30; total time=   0.8s\n",
      "[CV] END ......................max_depth=13, n_estimators=30; total time=   0.8s\n",
      "[CV] END ......................max_depth=13, n_estimators=30; total time=   0.8s\n",
      "[CV] END ......................max_depth=13, n_estimators=30; total time=   0.8s\n",
      "[CV] END ......................max_depth=13, n_estimators=35; total time=   1.0s\n",
      "[CV] END ......................max_depth=13, n_estimators=35; total time=   1.0s\n",
      "[CV] END ......................max_depth=13, n_estimators=35; total time=   0.9s\n",
      "[CV] END ......................max_depth=13, n_estimators=35; total time=   1.0s\n",
      "[CV] END ......................max_depth=13, n_estimators=35; total time=   1.0s\n",
      "[CV] END ......................max_depth=15, n_estimators=20; total time=   0.6s\n",
      "[CV] END ......................max_depth=15, n_estimators=20; total time=   0.6s\n",
      "[CV] END ......................max_depth=15, n_estimators=20; total time=   0.6s\n",
      "[CV] END ......................max_depth=15, n_estimators=20; total time=   0.6s\n",
      "[CV] END ......................max_depth=15, n_estimators=20; total time=   0.6s\n",
      "[CV] END ......................max_depth=15, n_estimators=25; total time=   0.7s\n",
      "[CV] END ......................max_depth=15, n_estimators=25; total time=   0.7s\n",
      "[CV] END ......................max_depth=15, n_estimators=25; total time=   0.7s\n",
      "[CV] END ......................max_depth=15, n_estimators=25; total time=   0.7s\n",
      "[CV] END ......................max_depth=15, n_estimators=25; total time=   0.7s\n",
      "[CV] END ......................max_depth=15, n_estimators=28; total time=   0.8s\n",
      "[CV] END ......................max_depth=15, n_estimators=28; total time=   0.8s\n",
      "[CV] END ......................max_depth=15, n_estimators=28; total time=   0.8s\n",
      "[CV] END ......................max_depth=15, n_estimators=28; total time=   0.8s\n",
      "[CV] END ......................max_depth=15, n_estimators=28; total time=   0.8s\n",
      "[CV] END ......................max_depth=15, n_estimators=30; total time=   0.9s\n",
      "[CV] END ......................max_depth=15, n_estimators=30; total time=   0.9s\n",
      "[CV] END ......................max_depth=15, n_estimators=30; total time=   0.9s\n",
      "[CV] END ......................max_depth=15, n_estimators=30; total time=   0.9s\n",
      "[CV] END ......................max_depth=15, n_estimators=30; total time=   0.9s\n",
      "[CV] END ......................max_depth=15, n_estimators=35; total time=   1.0s\n",
      "[CV] END ......................max_depth=15, n_estimators=35; total time=   1.0s\n",
      "[CV] END ......................max_depth=15, n_estimators=35; total time=   1.0s\n",
      "[CV] END ......................max_depth=15, n_estimators=35; total time=   1.0s\n",
      "[CV] END ......................max_depth=15, n_estimators=35; total time=   1.0s\n",
      "[CV] END ......................max_depth=17, n_estimators=20; total time=   0.6s\n",
      "[CV] END ......................max_depth=17, n_estimators=20; total time=   0.6s\n",
      "[CV] END ......................max_depth=17, n_estimators=20; total time=   0.7s\n",
      "[CV] END ......................max_depth=17, n_estimators=20; total time=   0.6s\n",
      "[CV] END ......................max_depth=17, n_estimators=20; total time=   0.6s\n",
      "[CV] END ......................max_depth=17, n_estimators=25; total time=   0.8s\n",
      "[CV] END ......................max_depth=17, n_estimators=25; total time=   0.8s\n",
      "[CV] END ......................max_depth=17, n_estimators=25; total time=   0.8s\n",
      "[CV] END ......................max_depth=17, n_estimators=25; total time=   0.8s\n",
      "[CV] END ......................max_depth=17, n_estimators=25; total time=   0.8s\n",
      "[CV] END ......................max_depth=17, n_estimators=28; total time=   0.9s\n",
      "[CV] END ......................max_depth=17, n_estimators=28; total time=   0.9s\n",
      "[CV] END ......................max_depth=17, n_estimators=28; total time=   0.9s\n",
      "[CV] END ......................max_depth=17, n_estimators=28; total time=   0.9s\n",
      "[CV] END ......................max_depth=17, n_estimators=28; total time=   0.9s\n",
      "[CV] END ......................max_depth=17, n_estimators=30; total time=   1.0s\n",
      "[CV] END ......................max_depth=17, n_estimators=30; total time=   1.0s\n",
      "[CV] END ......................max_depth=17, n_estimators=30; total time=   0.9s\n",
      "[CV] END ......................max_depth=17, n_estimators=30; total time=   1.0s\n",
      "[CV] END ......................max_depth=17, n_estimators=30; total time=   1.0s\n",
      "[CV] END ......................max_depth=17, n_estimators=35; total time=   1.1s\n",
      "[CV] END ......................max_depth=17, n_estimators=35; total time=   1.1s\n",
      "[CV] END ......................max_depth=17, n_estimators=35; total time=   1.1s\n",
      "[CV] END ......................max_depth=17, n_estimators=35; total time=   1.1s\n",
      "[CV] END ......................max_depth=17, n_estimators=35; total time=   1.1s\n",
      "[CV] END ......................max_depth=19, n_estimators=20; total time=   0.7s\n",
      "[CV] END ......................max_depth=19, n_estimators=20; total time=   0.7s\n",
      "[CV] END ......................max_depth=19, n_estimators=20; total time=   0.7s\n",
      "[CV] END ......................max_depth=19, n_estimators=20; total time=   0.7s\n",
      "[CV] END ......................max_depth=19, n_estimators=20; total time=   0.7s\n",
      "[CV] END ......................max_depth=19, n_estimators=25; total time=   0.8s\n",
      "[CV] END ......................max_depth=19, n_estimators=25; total time=   0.8s\n",
      "[CV] END ......................max_depth=19, n_estimators=25; total time=   0.8s\n",
      "[CV] END ......................max_depth=19, n_estimators=25; total time=   0.8s\n",
      "[CV] END ......................max_depth=19, n_estimators=25; total time=   0.8s\n",
      "[CV] END ......................max_depth=19, n_estimators=28; total time=   1.0s\n",
      "[CV] END ......................max_depth=19, n_estimators=28; total time=   1.0s\n",
      "[CV] END ......................max_depth=19, n_estimators=28; total time=   1.0s\n",
      "[CV] END ......................max_depth=19, n_estimators=28; total time=   1.0s\n",
      "[CV] END ......................max_depth=19, n_estimators=28; total time=   1.0s\n",
      "[CV] END ......................max_depth=19, n_estimators=30; total time=   1.0s\n",
      "[CV] END ......................max_depth=19, n_estimators=30; total time=   1.0s\n",
      "[CV] END ......................max_depth=19, n_estimators=30; total time=   1.0s\n",
      "[CV] END ......................max_depth=19, n_estimators=30; total time=   1.0s\n",
      "[CV] END ......................max_depth=19, n_estimators=30; total time=   1.0s\n",
      "[CV] END ......................max_depth=19, n_estimators=35; total time=   1.2s\n",
      "[CV] END ......................max_depth=19, n_estimators=35; total time=   1.2s\n",
      "[CV] END ......................max_depth=19, n_estimators=35; total time=   1.2s\n",
      "[CV] END ......................max_depth=19, n_estimators=35; total time=   1.2s\n",
      "[CV] END ......................max_depth=19, n_estimators=35; total time=   1.2s\n"
     ]
    },
    {
     "data": {
      "text/plain": [
       "GridSearchCV(estimator=RandomForestClassifier(),\n",
       "             param_grid={'max_depth': [11, 13, 15, 17, 19],\n",
       "                         'n_estimators': [20, 25, 28, 30, 35]},\n",
       "             scoring='accuracy', verbose=2)"
      ]
     },
     "execution_count": 30,
     "metadata": {},
     "output_type": "execute_result"
    }
   ],
   "source": [
    "np.random.seed(2)\n",
    "# random forest GridSearch\n",
    "gs = GridSearchCV(RandomForestClassifier(),\n",
    "                  {'n_estimators':[20,25,28,30,35], 'max_depth':[11,13,15,17,19]},\n",
    "                  scoring='accuracy',\n",
    "                  verbose=2)\n",
    "gs.fit(X_train, y_train)"
   ]
  },
  {
   "cell_type": "code",
   "execution_count": 31,
   "metadata": {},
   "outputs": [
    {
     "name": "stdout",
     "output_type": "stream",
     "text": [
      "0.7009236291642696\n",
      "RandomForestClassifier(max_depth=17, n_estimators=20)\n"
     ]
    }
   ],
   "source": [
    "print(gs.best_score_)\n",
    "# 0.70092\n",
    "print(gs.best_estimator_)\n",
    "# RandomForestClassifier(max_depth=17, n_estimators=20)"
   ]
  },
  {
   "cell_type": "markdown",
   "metadata": {},
   "source": [
    "## Check under/over fit for Random Forest"
   ]
  },
  {
   "cell_type": "code",
   "execution_count": 48,
   "metadata": {},
   "outputs": [
    {
     "name": "stdout",
     "output_type": "stream",
     "text": [
      "Training score: 0.7021209011386405\n",
      "Validation score: 0.6930218921032056\n",
      "[0.01587821 0.02167288 0.05497488 0.04972991 0.04985279 0.05283115\n",
      " 0.39978144 0.35527874]\n",
      "max_depth: 13 n_estimators: 20\n"
     ]
    }
   ],
   "source": [
    "# manual trial and error to get best parameters here\n",
    "rf = gs.best_estimator_.set_params(max_depth=13)\n",
    "rf.fit(X_train, y_train)\n",
    "print(\"Training score:\", rf.score(X_train, y_train))\n",
    "print(\"Validation score:\", rf.score(X_val, y_val))\n",
    "# this overfits somewhat so we will drop the max_depth down slightly\n",
    "print(rf.feature_importances_)\n",
    "print('max_depth:',rf.max_depth,'n_estimators:', rf.n_estimators)"
   ]
  },
  {
   "cell_type": "markdown",
   "metadata": {},
   "source": [
    "## Grid search on MLP Classifier"
   ]
  },
  {
   "cell_type": "code",
   "execution_count": 9,
   "metadata": {},
   "outputs": [
    {
     "name": "stdout",
     "output_type": "stream",
     "text": [
      "Fitting 5 folds for each of 4 candidates, totalling 20 fits\n",
      "[CV] END activation=logistic, hidden_layer_sizes=(100,), learning_rate=adaptive; total time=  21.1s\n",
      "[CV] END activation=logistic, hidden_layer_sizes=(100,), learning_rate=adaptive; total time=  23.1s\n",
      "[CV] END activation=logistic, hidden_layer_sizes=(100,), learning_rate=adaptive; total time=  19.8s\n",
      "[CV] END activation=logistic, hidden_layer_sizes=(100,), learning_rate=adaptive; total time=  18.6s\n",
      "[CV] END activation=logistic, hidden_layer_sizes=(100,), learning_rate=adaptive; total time=  18.8s\n",
      "[CV] END activation=logistic, hidden_layer_sizes=(50, 50), learning_rate=adaptive; total time=  49.0s\n",
      "[CV] END activation=logistic, hidden_layer_sizes=(50, 50), learning_rate=adaptive; total time=  47.2s\n",
      "[CV] END activation=logistic, hidden_layer_sizes=(50, 50), learning_rate=adaptive; total time=  48.2s\n",
      "[CV] END activation=logistic, hidden_layer_sizes=(50, 50), learning_rate=adaptive; total time=  45.9s\n",
      "[CV] END activation=logistic, hidden_layer_sizes=(50, 50), learning_rate=adaptive; total time=  46.3s\n",
      "[CV] END activation=logistic, hidden_layer_sizes=(50, 40, 30), learning_rate=adaptive; total time=  53.8s\n",
      "[CV] END activation=logistic, hidden_layer_sizes=(50, 40, 30), learning_rate=adaptive; total time=  52.5s\n",
      "[CV] END activation=logistic, hidden_layer_sizes=(50, 40, 30), learning_rate=adaptive; total time=  54.2s\n",
      "[CV] END activation=logistic, hidden_layer_sizes=(50, 40, 30), learning_rate=adaptive; total time=  53.6s\n",
      "[CV] END activation=logistic, hidden_layer_sizes=(50, 40, 30), learning_rate=adaptive; total time=  56.1s\n",
      "[CV] END activation=logistic, hidden_layer_sizes=(50, 20, 25, 50), learning_rate=adaptive; total time=  22.3s\n",
      "[CV] END activation=logistic, hidden_layer_sizes=(50, 20, 25, 50), learning_rate=adaptive; total time=  31.7s\n",
      "[CV] END activation=logistic, hidden_layer_sizes=(50, 20, 25, 50), learning_rate=adaptive; total time=  31.8s\n",
      "[CV] END activation=logistic, hidden_layer_sizes=(50, 20, 25, 50), learning_rate=adaptive; total time=  31.9s\n",
      "[CV] END activation=logistic, hidden_layer_sizes=(50, 20, 25, 50), learning_rate=adaptive; total time=  31.8s\n"
     ]
    },
    {
     "data": {
      "text/plain": [
       "GridSearchCV(estimator=MLPClassifier(),\n",
       "             param_grid={'activation': ['logistic'],\n",
       "                         'hidden_layer_sizes': [(100,), (50, 50), (50, 40, 30),\n",
       "                                                (50, 20, 25, 50)],\n",
       "                         'learning_rate': ['adaptive']},\n",
       "             scoring='accuracy', verbose=2)"
      ]
     },
     "execution_count": 9,
     "metadata": {},
     "output_type": "execute_result"
    }
   ],
   "source": [
    "# MLP gridsearch\n",
    "gs = GridSearchCV(MLPClassifier(),\n",
    "                  {'activation':['logistic'], 'hidden_layer_sizes':[(100,),(50,50),(50,40,30),(50,20,25,50)], 'learning_rate':['adaptive']},\n",
    "                  scoring='accuracy',\n",
    "                  verbose=2)\n",
    "gs.fit(X_train, y_train)"
   ]
  },
  {
   "cell_type": "code",
   "execution_count": 10,
   "metadata": {},
   "outputs": [
    {
     "name": "stdout",
     "output_type": "stream",
     "text": [
      "0.7003494669847493\n",
      "MLPClassifier(activation='logistic', hidden_layer_sizes=(50, 50),\n",
      "              learning_rate='adaptive')\n"
     ]
    }
   ],
   "source": [
    "print(gs.best_score_)\n",
    "print(gs.best_estimator_)\n",
    "\n",
    "# 0.7044543461856337\n",
    "# MLPClassifier(activation='logistic', hidden_layer_sizes=(50, 50),\n",
    "            #   learning_rate='adaptive')"
   ]
  },
  {
   "cell_type": "code",
   "execution_count": 12,
   "metadata": {},
   "outputs": [
    {
     "name": "stdout",
     "output_type": "stream",
     "text": [
      "test score: 0.6977812530544424\n"
     ]
    }
   ],
   "source": [
    "print('test score:', gs.best_estimator_.score(X_test, y_test))"
   ]
  },
  {
   "cell_type": "markdown",
   "metadata": {},
   "source": [
    "## Grid search for Bagging classifier"
   ]
  },
  {
   "cell_type": "code",
   "execution_count": 77,
   "metadata": {},
   "outputs": [
    {
     "name": "stdout",
     "output_type": "stream",
     "text": [
      "Fitting 5 folds for each of 16 candidates, totalling 80 fits\n",
      "[CV] END ...................max_samples=1900, n_estimators=5; total time=   0.1s\n",
      "[CV] END ...................max_samples=1900, n_estimators=5; total time=   0.1s\n",
      "[CV] END ...................max_samples=1900, n_estimators=5; total time=   0.1s\n",
      "[CV] END ...................max_samples=1900, n_estimators=5; total time=   0.1s\n",
      "[CV] END ...................max_samples=1900, n_estimators=5; total time=   0.1s\n",
      "[CV] END ..................max_samples=1900, n_estimators=10; total time=   0.1s\n",
      "[CV] END ..................max_samples=1900, n_estimators=10; total time=   0.1s\n",
      "[CV] END ..................max_samples=1900, n_estimators=10; total time=   0.1s\n",
      "[CV] END ..................max_samples=1900, n_estimators=10; total time=   0.1s\n",
      "[CV] END ..................max_samples=1900, n_estimators=10; total time=   0.1s\n",
      "[CV] END ..................max_samples=1900, n_estimators=15; total time=   0.1s\n",
      "[CV] END ..................max_samples=1900, n_estimators=15; total time=   0.1s\n",
      "[CV] END ..................max_samples=1900, n_estimators=15; total time=   0.1s\n",
      "[CV] END ..................max_samples=1900, n_estimators=15; total time=   0.1s\n",
      "[CV] END ..................max_samples=1900, n_estimators=15; total time=   0.2s\n",
      "[CV] END ..................max_samples=1900, n_estimators=20; total time=   0.2s\n",
      "[CV] END ..................max_samples=1900, n_estimators=20; total time=   0.2s\n",
      "[CV] END ..................max_samples=1900, n_estimators=20; total time=   0.2s\n",
      "[CV] END ..................max_samples=1900, n_estimators=20; total time=   0.2s\n",
      "[CV] END ..................max_samples=1900, n_estimators=20; total time=   0.2s\n",
      "[CV] END ...................max_samples=2000, n_estimators=5; total time=   0.0s\n",
      "[CV] END ...................max_samples=2000, n_estimators=5; total time=   0.0s\n",
      "[CV] END ...................max_samples=2000, n_estimators=5; total time=   0.0s\n",
      "[CV] END ...................max_samples=2000, n_estimators=5; total time=   0.1s\n",
      "[CV] END ...................max_samples=2000, n_estimators=5; total time=   0.1s\n",
      "[CV] END ..................max_samples=2000, n_estimators=10; total time=   0.1s\n",
      "[CV] END ..................max_samples=2000, n_estimators=10; total time=   0.1s\n",
      "[CV] END ..................max_samples=2000, n_estimators=10; total time=   0.1s\n",
      "[CV] END ..................max_samples=2000, n_estimators=10; total time=   0.1s\n",
      "[CV] END ..................max_samples=2000, n_estimators=10; total time=   0.1s\n",
      "[CV] END ..................max_samples=2000, n_estimators=15; total time=   0.1s\n",
      "[CV] END ..................max_samples=2000, n_estimators=15; total time=   0.1s\n",
      "[CV] END ..................max_samples=2000, n_estimators=15; total time=   0.1s\n",
      "[CV] END ..................max_samples=2000, n_estimators=15; total time=   0.2s\n",
      "[CV] END ..................max_samples=2000, n_estimators=15; total time=   0.2s\n",
      "[CV] END ..................max_samples=2000, n_estimators=20; total time=   0.2s\n",
      "[CV] END ..................max_samples=2000, n_estimators=20; total time=   0.2s\n",
      "[CV] END ..................max_samples=2000, n_estimators=20; total time=   0.2s\n",
      "[CV] END ..................max_samples=2000, n_estimators=20; total time=   0.2s\n",
      "[CV] END ..................max_samples=2000, n_estimators=20; total time=   0.2s\n",
      "[CV] END ...................max_samples=2250, n_estimators=5; total time=   0.1s\n",
      "[CV] END ...................max_samples=2250, n_estimators=5; total time=   0.1s\n",
      "[CV] END ...................max_samples=2250, n_estimators=5; total time=   0.1s\n",
      "[CV] END ...................max_samples=2250, n_estimators=5; total time=   0.1s\n",
      "[CV] END ...................max_samples=2250, n_estimators=5; total time=   0.1s\n",
      "[CV] END ..................max_samples=2250, n_estimators=10; total time=   0.1s\n",
      "[CV] END ..................max_samples=2250, n_estimators=10; total time=   0.1s\n",
      "[CV] END ..................max_samples=2250, n_estimators=10; total time=   0.1s\n",
      "[CV] END ..................max_samples=2250, n_estimators=10; total time=   0.1s\n",
      "[CV] END ..................max_samples=2250, n_estimators=10; total time=   0.1s\n",
      "[CV] END ..................max_samples=2250, n_estimators=15; total time=   0.2s\n",
      "[CV] END ..................max_samples=2250, n_estimators=15; total time=   0.2s\n",
      "[CV] END ..................max_samples=2250, n_estimators=15; total time=   0.2s\n",
      "[CV] END ..................max_samples=2250, n_estimators=15; total time=   0.2s\n",
      "[CV] END ..................max_samples=2250, n_estimators=15; total time=   0.2s\n",
      "[CV] END ..................max_samples=2250, n_estimators=20; total time=   0.2s\n",
      "[CV] END ..................max_samples=2250, n_estimators=20; total time=   0.2s\n",
      "[CV] END ..................max_samples=2250, n_estimators=20; total time=   0.2s\n",
      "[CV] END ..................max_samples=2250, n_estimators=20; total time=   0.2s\n",
      "[CV] END ..................max_samples=2250, n_estimators=20; total time=   0.2s\n",
      "[CV] END ...................max_samples=2500, n_estimators=5; total time=   0.1s\n",
      "[CV] END ...................max_samples=2500, n_estimators=5; total time=   0.1s\n",
      "[CV] END ...................max_samples=2500, n_estimators=5; total time=   0.1s\n",
      "[CV] END ...................max_samples=2500, n_estimators=5; total time=   0.1s\n",
      "[CV] END ...................max_samples=2500, n_estimators=5; total time=   0.1s\n",
      "[CV] END ..................max_samples=2500, n_estimators=10; total time=   0.1s\n",
      "[CV] END ..................max_samples=2500, n_estimators=10; total time=   0.1s\n",
      "[CV] END ..................max_samples=2500, n_estimators=10; total time=   0.1s\n",
      "[CV] END ..................max_samples=2500, n_estimators=10; total time=   0.1s\n",
      "[CV] END ..................max_samples=2500, n_estimators=10; total time=   0.1s\n",
      "[CV] END ..................max_samples=2500, n_estimators=15; total time=   0.2s\n",
      "[CV] END ..................max_samples=2500, n_estimators=15; total time=   0.2s\n",
      "[CV] END ..................max_samples=2500, n_estimators=15; total time=   0.2s\n",
      "[CV] END ..................max_samples=2500, n_estimators=15; total time=   0.2s\n",
      "[CV] END ..................max_samples=2500, n_estimators=15; total time=   0.2s\n",
      "[CV] END ..................max_samples=2500, n_estimators=20; total time=   0.2s\n",
      "[CV] END ..................max_samples=2500, n_estimators=20; total time=   0.2s\n",
      "[CV] END ..................max_samples=2500, n_estimators=20; total time=   0.2s\n",
      "[CV] END ..................max_samples=2500, n_estimators=20; total time=   0.2s\n",
      "[CV] END ..................max_samples=2500, n_estimators=20; total time=   0.2s\n"
     ]
    },
    {
     "data": {
      "text/plain": [
       "GridSearchCV(estimator=BaggingClassifier(),\n",
       "             param_grid={'max_samples': [1900, 2000, 2250, 2500],\n",
       "                         'n_estimators': [5, 10, 15, 20]},\n",
       "             scoring='accuracy', verbose=2)"
      ]
     },
     "execution_count": 77,
     "metadata": {},
     "output_type": "execute_result"
    }
   ],
   "source": [
    "# Bagging gridsearch\n",
    "gs = GridSearchCV(BaggingClassifier(),\n",
    "                  {'max_samples':[1900,2000,2250,2500], 'n_estimators':[5,10,15,20]},\n",
    "                  scoring='accuracy',\n",
    "                  verbose=2)\n",
    "gs.fit(X_train, y_train)"
   ]
  },
  {
   "cell_type": "code",
   "execution_count": 78,
   "metadata": {},
   "outputs": [
    {
     "name": "stdout",
     "output_type": "stream",
     "text": [
      "0.6852001425259671\n",
      "BaggingClassifier(max_samples=2500, n_estimators=20)\n",
      "training score: 0.7025729365195719\n",
      "test score: 0.690255107027661\n"
     ]
    }
   ],
   "source": [
    "print(gs.best_score_)\n",
    "print(gs.best_estimator_)\n",
    "gs.best_estimator_.set_params(n_estimators=15)\n",
    "gs.best_estimator_.fit(X_train, y_train)\n",
    "print('training score:', gs.best_estimator_.score(X_train, y_train))\n",
    "print('test score:', gs.best_estimator_.score(X_test, y_test))"
   ]
  },
  {
   "cell_type": "markdown",
   "metadata": {},
   "source": [
    "## Grid search for AdaBoost"
   ]
  },
  {
   "cell_type": "code",
   "execution_count": 80,
   "metadata": {},
   "outputs": [
    {
     "name": "stdout",
     "output_type": "stream",
     "text": [
      "Fitting 5 folds for each of 50 candidates, totalling 250 fits\n",
      "[CV] END .................learning_rate=0.5, n_estimators=54; total time=   1.2s\n",
      "[CV] END .................learning_rate=0.5, n_estimators=54; total time=   1.2s\n",
      "[CV] END .................learning_rate=0.5, n_estimators=54; total time=   1.1s\n",
      "[CV] END .................learning_rate=0.5, n_estimators=54; total time=   1.1s\n",
      "[CV] END .................learning_rate=0.5, n_estimators=54; total time=   1.1s\n",
      "[CV] END .................learning_rate=0.1, n_estimators=16; total time=   0.3s\n",
      "[CV] END .................learning_rate=0.1, n_estimators=16; total time=   0.3s\n",
      "[CV] END .................learning_rate=0.1, n_estimators=16; total time=   0.3s\n",
      "[CV] END .................learning_rate=0.1, n_estimators=16; total time=   0.3s\n",
      "[CV] END .................learning_rate=0.1, n_estimators=16; total time=   0.3s\n",
      "[CV] END ...................learning_rate=1, n_estimators=38; total time=   0.8s\n",
      "[CV] END ...................learning_rate=1, n_estimators=38; total time=   0.8s\n",
      "[CV] END ...................learning_rate=1, n_estimators=38; total time=   0.8s\n",
      "[CV] END ...................learning_rate=1, n_estimators=38; total time=   0.8s\n",
      "[CV] END ...................learning_rate=1, n_estimators=38; total time=   0.8s\n",
      "[CV] END .................learning_rate=0.1, n_estimators=56; total time=   1.2s\n",
      "[CV] END .................learning_rate=0.1, n_estimators=56; total time=   1.2s\n",
      "[CV] END .................learning_rate=0.1, n_estimators=56; total time=   1.2s\n",
      "[CV] END .................learning_rate=0.1, n_estimators=56; total time=   1.2s\n",
      "[CV] END .................learning_rate=0.1, n_estimators=56; total time=   1.2s\n",
      "[CV] END .................learning_rate=0.5, n_estimators=90; total time=   1.9s\n",
      "[CV] END .................learning_rate=0.5, n_estimators=90; total time=   1.9s\n",
      "[CV] END .................learning_rate=0.5, n_estimators=90; total time=   1.9s\n",
      "[CV] END .................learning_rate=0.5, n_estimators=90; total time=   1.9s\n",
      "[CV] END .................learning_rate=0.5, n_estimators=90; total time=   1.9s\n",
      "[CV] END .................learning_rate=0.5, n_estimators=41; total time=   0.9s\n",
      "[CV] END .................learning_rate=0.5, n_estimators=41; total time=   0.9s\n",
      "[CV] END .................learning_rate=0.5, n_estimators=41; total time=   0.9s\n",
      "[CV] END .................learning_rate=0.5, n_estimators=41; total time=   0.9s\n",
      "[CV] END .................learning_rate=0.5, n_estimators=41; total time=   0.9s\n",
      "[CV] END .................learning_rate=0.9, n_estimators=54; total time=   1.1s\n",
      "[CV] END .................learning_rate=0.9, n_estimators=54; total time=   1.1s\n",
      "[CV] END .................learning_rate=0.9, n_estimators=54; total time=   1.1s\n",
      "[CV] END .................learning_rate=0.9, n_estimators=54; total time=   1.2s\n",
      "[CV] END .................learning_rate=0.9, n_estimators=54; total time=   1.1s\n",
      "[CV] END .................learning_rate=0.5, n_estimators=58; total time=   1.2s\n",
      "[CV] END .................learning_rate=0.5, n_estimators=58; total time=   1.2s\n",
      "[CV] END .................learning_rate=0.5, n_estimators=58; total time=   1.3s\n",
      "[CV] END .................learning_rate=0.5, n_estimators=58; total time=   1.3s\n",
      "[CV] END .................learning_rate=0.5, n_estimators=58; total time=   1.2s\n",
      "[CV] END .................learning_rate=0.9, n_estimators=99; total time=   2.2s\n",
      "[CV] END .................learning_rate=0.9, n_estimators=99; total time=   2.1s\n",
      "[CV] END .................learning_rate=0.9, n_estimators=99; total time=   2.5s\n",
      "[CV] END .................learning_rate=0.9, n_estimators=99; total time=   2.2s\n",
      "[CV] END .................learning_rate=0.9, n_estimators=99; total time=   2.1s\n",
      "[CV] END .................learning_rate=0.9, n_estimators=87; total time=   1.8s\n",
      "[CV] END .................learning_rate=0.9, n_estimators=87; total time=   1.8s\n",
      "[CV] END .................learning_rate=0.9, n_estimators=87; total time=   1.8s\n",
      "[CV] END .................learning_rate=0.9, n_estimators=87; total time=   1.8s\n",
      "[CV] END .................learning_rate=0.9, n_estimators=87; total time=   1.8s\n",
      "[CV] END .................learning_rate=0.9, n_estimators=12; total time=   0.2s\n",
      "[CV] END .................learning_rate=0.9, n_estimators=12; total time=   0.3s\n",
      "[CV] END .................learning_rate=0.9, n_estimators=12; total time=   0.2s\n",
      "[CV] END .................learning_rate=0.9, n_estimators=12; total time=   0.2s\n",
      "[CV] END .................learning_rate=0.9, n_estimators=12; total time=   0.2s\n",
      "[CV] END .................learning_rate=0.9, n_estimators=62; total time=   1.3s\n",
      "[CV] END .................learning_rate=0.9, n_estimators=62; total time=   1.3s\n",
      "[CV] END .................learning_rate=0.9, n_estimators=62; total time=   1.3s\n",
      "[CV] END .................learning_rate=0.9, n_estimators=62; total time=   1.3s\n",
      "[CV] END .................learning_rate=0.9, n_estimators=62; total time=   1.3s\n",
      "[CV] END .................learning_rate=0.9, n_estimators=21; total time=   0.4s\n",
      "[CV] END .................learning_rate=0.9, n_estimators=21; total time=   0.4s\n",
      "[CV] END .................learning_rate=0.9, n_estimators=21; total time=   0.5s\n",
      "[CV] END .................learning_rate=0.9, n_estimators=21; total time=   0.4s\n",
      "[CV] END .................learning_rate=0.9, n_estimators=21; total time=   0.4s\n",
      "[CV] END .................learning_rate=0.9, n_estimators=37; total time=   0.8s\n",
      "[CV] END .................learning_rate=0.9, n_estimators=37; total time=   0.8s\n",
      "[CV] END .................learning_rate=0.9, n_estimators=37; total time=   0.8s\n",
      "[CV] END .................learning_rate=0.9, n_estimators=37; total time=   0.8s\n",
      "[CV] END .................learning_rate=0.9, n_estimators=37; total time=   0.8s\n",
      "[CV] END .................learning_rate=0.9, n_estimators=18; total time=   0.4s\n",
      "[CV] END .................learning_rate=0.9, n_estimators=18; total time=   0.4s\n",
      "[CV] END .................learning_rate=0.9, n_estimators=18; total time=   0.4s\n",
      "[CV] END .................learning_rate=0.9, n_estimators=18; total time=   0.4s\n",
      "[CV] END .................learning_rate=0.9, n_estimators=18; total time=   0.4s\n",
      "[CV] END .................learning_rate=0.9, n_estimators=27; total time=   0.6s\n",
      "[CV] END .................learning_rate=0.9, n_estimators=27; total time=   0.6s\n",
      "[CV] END .................learning_rate=0.9, n_estimators=27; total time=   0.6s\n",
      "[CV] END .................learning_rate=0.9, n_estimators=27; total time=   0.6s\n",
      "[CV] END .................learning_rate=0.9, n_estimators=27; total time=   0.6s\n",
      "[CV] END .................learning_rate=0.1, n_estimators=30; total time=   0.6s\n",
      "[CV] END .................learning_rate=0.1, n_estimators=30; total time=   0.6s\n",
      "[CV] END .................learning_rate=0.1, n_estimators=30; total time=   0.6s\n",
      "[CV] END .................learning_rate=0.1, n_estimators=30; total time=   0.6s\n",
      "[CV] END .................learning_rate=0.1, n_estimators=30; total time=   0.6s\n",
      "[CV] END ...................learning_rate=1, n_estimators=36; total time=   0.8s\n",
      "[CV] END ...................learning_rate=1, n_estimators=36; total time=   0.8s\n",
      "[CV] END ...................learning_rate=1, n_estimators=36; total time=   0.8s\n",
      "[CV] END ...................learning_rate=1, n_estimators=36; total time=   0.8s\n",
      "[CV] END ...................learning_rate=1, n_estimators=36; total time=   0.7s\n",
      "[CV] END .................learning_rate=0.5, n_estimators=31; total time=   0.7s\n",
      "[CV] END .................learning_rate=0.5, n_estimators=31; total time=   0.7s\n",
      "[CV] END .................learning_rate=0.5, n_estimators=31; total time=   0.6s\n",
      "[CV] END .................learning_rate=0.5, n_estimators=31; total time=   0.7s\n",
      "[CV] END .................learning_rate=0.5, n_estimators=31; total time=   0.7s\n",
      "[CV] END .................learning_rate=0.9, n_estimators=89; total time=   1.8s\n",
      "[CV] END .................learning_rate=0.9, n_estimators=89; total time=   1.9s\n",
      "[CV] END .................learning_rate=0.9, n_estimators=89; total time=   1.9s\n",
      "[CV] END .................learning_rate=0.9, n_estimators=89; total time=   1.9s\n",
      "[CV] END .................learning_rate=0.9, n_estimators=89; total time=   1.9s\n",
      "[CV] END .................learning_rate=0.9, n_estimators=22; total time=   0.5s\n",
      "[CV] END .................learning_rate=0.9, n_estimators=22; total time=   0.5s\n",
      "[CV] END .................learning_rate=0.9, n_estimators=22; total time=   0.5s\n",
      "[CV] END .................learning_rate=0.9, n_estimators=22; total time=   0.5s\n",
      "[CV] END .................learning_rate=0.9, n_estimators=22; total time=   0.5s\n",
      "[CV] END .................learning_rate=0.1, n_estimators=61; total time=   1.3s\n",
      "[CV] END .................learning_rate=0.1, n_estimators=61; total time=   1.3s\n",
      "[CV] END .................learning_rate=0.1, n_estimators=61; total time=   1.3s\n",
      "[CV] END .................learning_rate=0.1, n_estimators=61; total time=   1.3s\n",
      "[CV] END .................learning_rate=0.1, n_estimators=61; total time=   1.2s\n",
      "[CV] END .................learning_rate=0.5, n_estimators=11; total time=   0.2s\n",
      "[CV] END .................learning_rate=0.5, n_estimators=11; total time=   0.2s\n",
      "[CV] END .................learning_rate=0.5, n_estimators=11; total time=   0.2s\n",
      "[CV] END .................learning_rate=0.5, n_estimators=11; total time=   0.2s\n",
      "[CV] END .................learning_rate=0.5, n_estimators=11; total time=   0.2s\n",
      "[CV] END .................learning_rate=0.1, n_estimators=14; total time=   0.3s\n",
      "[CV] END .................learning_rate=0.1, n_estimators=14; total time=   0.3s\n",
      "[CV] END .................learning_rate=0.1, n_estimators=14; total time=   0.3s\n",
      "[CV] END .................learning_rate=0.1, n_estimators=14; total time=   0.3s\n",
      "[CV] END .................learning_rate=0.1, n_estimators=14; total time=   0.3s\n",
      "[CV] END .................learning_rate=0.5, n_estimators=80; total time=   1.6s\n",
      "[CV] END .................learning_rate=0.5, n_estimators=80; total time=   1.7s\n",
      "[CV] END .................learning_rate=0.5, n_estimators=80; total time=   1.7s\n",
      "[CV] END .................learning_rate=0.5, n_estimators=80; total time=   1.7s\n",
      "[CV] END .................learning_rate=0.5, n_estimators=80; total time=   1.7s\n",
      "[CV] END .................learning_rate=0.1, n_estimators=33; total time=   0.7s\n",
      "[CV] END .................learning_rate=0.1, n_estimators=33; total time=   0.7s\n",
      "[CV] END .................learning_rate=0.1, n_estimators=33; total time=   0.7s\n",
      "[CV] END .................learning_rate=0.1, n_estimators=33; total time=   0.7s\n",
      "[CV] END .................learning_rate=0.1, n_estimators=33; total time=   0.7s\n",
      "[CV] END .................learning_rate=0.5, n_estimators=33; total time=   0.7s\n",
      "[CV] END .................learning_rate=0.5, n_estimators=33; total time=   0.7s\n",
      "[CV] END .................learning_rate=0.5, n_estimators=33; total time=   0.7s\n",
      "[CV] END .................learning_rate=0.5, n_estimators=33; total time=   0.7s\n",
      "[CV] END .................learning_rate=0.5, n_estimators=33; total time=   0.7s\n",
      "[CV] END .................learning_rate=0.5, n_estimators=47; total time=   1.0s\n",
      "[CV] END .................learning_rate=0.5, n_estimators=47; total time=   1.0s\n",
      "[CV] END .................learning_rate=0.5, n_estimators=47; total time=   1.0s\n",
      "[CV] END .................learning_rate=0.5, n_estimators=47; total time=   1.0s\n",
      "[CV] END .................learning_rate=0.5, n_estimators=47; total time=   1.0s\n",
      "[CV] END .................learning_rate=0.1, n_estimators=87; total time=   1.8s\n",
      "[CV] END .................learning_rate=0.1, n_estimators=87; total time=   1.8s\n",
      "[CV] END .................learning_rate=0.1, n_estimators=87; total time=   1.8s\n",
      "[CV] END .................learning_rate=0.1, n_estimators=87; total time=   1.8s\n",
      "[CV] END .................learning_rate=0.1, n_estimators=87; total time=   1.8s\n",
      "[CV] END .................learning_rate=0.9, n_estimators=30; total time=   0.6s\n",
      "[CV] END .................learning_rate=0.9, n_estimators=30; total time=   0.6s\n",
      "[CV] END .................learning_rate=0.9, n_estimators=30; total time=   0.6s\n",
      "[CV] END .................learning_rate=0.9, n_estimators=30; total time=   0.6s\n",
      "[CV] END .................learning_rate=0.9, n_estimators=30; total time=   0.6s\n",
      "[CV] END ...................learning_rate=1, n_estimators=95; total time=   2.0s\n",
      "[CV] END ...................learning_rate=1, n_estimators=95; total time=   2.0s\n",
      "[CV] END ...................learning_rate=1, n_estimators=95; total time=   2.2s\n",
      "[CV] END ...................learning_rate=1, n_estimators=95; total time=   2.0s\n",
      "[CV] END ...................learning_rate=1, n_estimators=95; total time=   2.0s\n",
      "[CV] END .................learning_rate=0.1, n_estimators=53; total time=   1.1s\n",
      "[CV] END .................learning_rate=0.1, n_estimators=53; total time=   1.1s\n",
      "[CV] END .................learning_rate=0.1, n_estimators=53; total time=   1.1s\n",
      "[CV] END .................learning_rate=0.1, n_estimators=53; total time=   1.1s\n",
      "[CV] END .................learning_rate=0.1, n_estimators=53; total time=   1.1s\n",
      "[CV] END .................learning_rate=0.1, n_estimators=91; total time=   1.9s\n",
      "[CV] END .................learning_rate=0.1, n_estimators=91; total time=   2.0s\n",
      "[CV] END .................learning_rate=0.1, n_estimators=91; total time=   2.0s\n",
      "[CV] END .................learning_rate=0.1, n_estimators=91; total time=   2.0s\n",
      "[CV] END .................learning_rate=0.1, n_estimators=91; total time=   2.0s\n",
      "[CV] END .................learning_rate=0.9, n_estimators=96; total time=   2.1s\n",
      "[CV] END .................learning_rate=0.9, n_estimators=96; total time=   2.0s\n",
      "[CV] END .................learning_rate=0.9, n_estimators=96; total time=   2.0s\n",
      "[CV] END .................learning_rate=0.9, n_estimators=96; total time=   2.1s\n",
      "[CV] END .................learning_rate=0.9, n_estimators=96; total time=   2.1s\n",
      "[CV] END ...................learning_rate=1, n_estimators=81; total time=   1.7s\n",
      "[CV] END ...................learning_rate=1, n_estimators=81; total time=   1.7s\n",
      "[CV] END ...................learning_rate=1, n_estimators=81; total time=   1.7s\n",
      "[CV] END ...................learning_rate=1, n_estimators=81; total time=   1.7s\n",
      "[CV] END ...................learning_rate=1, n_estimators=81; total time=   1.7s\n",
      "[CV] END ...................learning_rate=1, n_estimators=52; total time=   1.1s\n",
      "[CV] END ...................learning_rate=1, n_estimators=52; total time=   1.1s\n",
      "[CV] END ...................learning_rate=1, n_estimators=52; total time=   1.1s\n",
      "[CV] END ...................learning_rate=1, n_estimators=52; total time=   1.1s\n",
      "[CV] END ...................learning_rate=1, n_estimators=52; total time=   1.1s\n",
      "[CV] END .................learning_rate=0.5, n_estimators=69; total time=   1.5s\n",
      "[CV] END .................learning_rate=0.5, n_estimators=69; total time=   1.5s\n",
      "[CV] END .................learning_rate=0.5, n_estimators=69; total time=   1.5s\n",
      "[CV] END .................learning_rate=0.5, n_estimators=69; total time=   1.5s\n",
      "[CV] END .................learning_rate=0.5, n_estimators=69; total time=   1.5s\n",
      "[CV] END ..................learning_rate=0.1, n_estimators=4; total time=   0.1s\n",
      "[CV] END ..................learning_rate=0.1, n_estimators=4; total time=   0.1s\n",
      "[CV] END ..................learning_rate=0.1, n_estimators=4; total time=   0.1s\n",
      "[CV] END ..................learning_rate=0.1, n_estimators=4; total time=   0.1s\n",
      "[CV] END ..................learning_rate=0.1, n_estimators=4; total time=   0.1s\n",
      "[CV] END ..................learning_rate=0.9, n_estimators=7; total time=   0.2s\n",
      "[CV] END ..................learning_rate=0.9, n_estimators=7; total time=   0.2s\n",
      "[CV] END ..................learning_rate=0.9, n_estimators=7; total time=   0.2s\n",
      "[CV] END ..................learning_rate=0.9, n_estimators=7; total time=   0.1s\n",
      "[CV] END ..................learning_rate=0.9, n_estimators=7; total time=   0.2s\n",
      "[CV] END .................learning_rate=0.9, n_estimators=46; total time=   1.0s\n",
      "[CV] END .................learning_rate=0.9, n_estimators=46; total time=   1.0s\n",
      "[CV] END .................learning_rate=0.9, n_estimators=46; total time=   1.0s\n",
      "[CV] END .................learning_rate=0.9, n_estimators=46; total time=   1.0s\n",
      "[CV] END .................learning_rate=0.9, n_estimators=46; total time=   1.0s\n",
      "[CV] END .................learning_rate=0.1, n_estimators=68; total time=   1.4s\n",
      "[CV] END .................learning_rate=0.1, n_estimators=68; total time=   1.4s\n",
      "[CV] END .................learning_rate=0.1, n_estimators=68; total time=   1.4s\n",
      "[CV] END .................learning_rate=0.1, n_estimators=68; total time=   1.4s\n",
      "[CV] END .................learning_rate=0.1, n_estimators=68; total time=   1.4s\n",
      "[CV] END .................learning_rate=0.5, n_estimators=59; total time=   1.2s\n",
      "[CV] END .................learning_rate=0.5, n_estimators=59; total time=   1.3s\n",
      "[CV] END .................learning_rate=0.5, n_estimators=59; total time=   1.3s\n",
      "[CV] END .................learning_rate=0.5, n_estimators=59; total time=   1.3s\n",
      "[CV] END .................learning_rate=0.5, n_estimators=59; total time=   1.3s\n",
      "[CV] END .................learning_rate=0.1, n_estimators=64; total time=   1.4s\n",
      "[CV] END .................learning_rate=0.1, n_estimators=64; total time=   1.3s\n",
      "[CV] END .................learning_rate=0.1, n_estimators=64; total time=   1.3s\n",
      "[CV] END .................learning_rate=0.1, n_estimators=64; total time=   1.4s\n",
      "[CV] END .................learning_rate=0.1, n_estimators=64; total time=   1.3s\n",
      "[CV] END .................learning_rate=0.1, n_estimators=98; total time=   2.1s\n",
      "[CV] END .................learning_rate=0.1, n_estimators=98; total time=   2.1s\n",
      "[CV] END .................learning_rate=0.1, n_estimators=98; total time=   2.1s\n",
      "[CV] END .................learning_rate=0.1, n_estimators=98; total time=   2.1s\n",
      "[CV] END .................learning_rate=0.1, n_estimators=98; total time=   2.1s\n",
      "[CV] END ...................learning_rate=1, n_estimators=71; total time=   1.5s\n",
      "[CV] END ...................learning_rate=1, n_estimators=71; total time=   1.5s\n",
      "[CV] END ...................learning_rate=1, n_estimators=71; total time=   1.5s\n",
      "[CV] END ...................learning_rate=1, n_estimators=71; total time=   1.5s\n",
      "[CV] END ...................learning_rate=1, n_estimators=71; total time=   1.5s\n",
      "[CV] END .................learning_rate=0.5, n_estimators=15; total time=   0.3s\n",
      "[CV] END .................learning_rate=0.5, n_estimators=15; total time=   0.3s\n",
      "[CV] END .................learning_rate=0.5, n_estimators=15; total time=   0.3s\n",
      "[CV] END .................learning_rate=0.5, n_estimators=15; total time=   0.3s\n",
      "[CV] END .................learning_rate=0.5, n_estimators=15; total time=   0.3s\n",
      "[CV] END ....................learning_rate=1, n_estimators=5; total time=   0.1s\n",
      "[CV] END ....................learning_rate=1, n_estimators=5; total time=   0.1s\n",
      "[CV] END ....................learning_rate=1, n_estimators=5; total time=   0.1s\n",
      "[CV] END ....................learning_rate=1, n_estimators=5; total time=   0.1s\n",
      "[CV] END ....................learning_rate=1, n_estimators=5; total time=   0.1s\n",
      "[CV] END .................learning_rate=0.5, n_estimators=20; total time=   0.4s\n",
      "[CV] END .................learning_rate=0.5, n_estimators=20; total time=   0.4s\n",
      "[CV] END .................learning_rate=0.5, n_estimators=20; total time=   0.4s\n",
      "[CV] END .................learning_rate=0.5, n_estimators=20; total time=   0.4s\n",
      "[CV] END .................learning_rate=0.5, n_estimators=20; total time=   0.4s\n",
      "[CV] END .................learning_rate=0.1, n_estimators=88; total time=   1.8s\n",
      "[CV] END .................learning_rate=0.1, n_estimators=88; total time=   1.9s\n",
      "[CV] END .................learning_rate=0.1, n_estimators=88; total time=   1.9s\n",
      "[CV] END .................learning_rate=0.1, n_estimators=88; total time=   1.9s\n",
      "[CV] END .................learning_rate=0.1, n_estimators=88; total time=   1.9s\n",
      "[CV] END ....................learning_rate=1, n_estimators=7; total time=   0.1s\n",
      "[CV] END ....................learning_rate=1, n_estimators=7; total time=   0.1s\n",
      "[CV] END ....................learning_rate=1, n_estimators=7; total time=   0.1s\n",
      "[CV] END ....................learning_rate=1, n_estimators=7; total time=   0.2s\n",
      "[CV] END ....................learning_rate=1, n_estimators=7; total time=   0.1s\n"
     ]
    },
    {
     "data": {
      "text/plain": [
       "RandomizedSearchCV(estimator=AdaBoostClassifier(), n_iter=50,\n",
       "                   param_distributions={'learning_rate': [0.1, 0.5, 0.9, 1],\n",
       "                                        'n_estimators': range(1, 100)},\n",
       "                   scoring='accuracy', verbose=2)"
      ]
     },
     "execution_count": 80,
     "metadata": {},
     "output_type": "execute_result"
    }
   ],
   "source": [
    "gs = RandomizedSearchCV(AdaBoostClassifier(),\n",
    "                  {'learning_rate':[0.1,0.5,0.9,1], 'n_estimators':range(1,100)},\n",
    "                  n_iter=50,\n",
    "                  scoring='accuracy',\n",
    "                  verbose=2)\n",
    "gs.fit(X_train, y_train)"
   ]
  },
  {
   "cell_type": "code",
   "execution_count": 82,
   "metadata": {},
   "outputs": [
    {
     "name": "stdout",
     "output_type": "stream",
     "text": [
      "0.6947539973671727\n",
      "AdaBoostClassifier(learning_rate=1, n_estimators=71)\n",
      "training score: 0.6938987440746713\n",
      "test score: 0.6951422148372594\n"
     ]
    }
   ],
   "source": [
    "print(gs.best_score_)\n",
    "print(gs.best_estimator_)\n",
    "print('training score:', gs.best_estimator_.score(X_train, y_train))\n",
    "print('test score:',gs.best_estimator_.score(X_test, y_test))"
   ]
  },
  {
   "cell_type": "code",
   "execution_count": 88,
   "metadata": {},
   "outputs": [
    {
     "name": "stdout",
     "output_type": "stream",
     "text": [
      "Fitting 5 folds for each of 10 candidates, totalling 50 fits\n",
      "[CV] END ....................................n_estimators=60; total time=   1.3s\n",
      "[CV] END ....................................n_estimators=60; total time=   1.3s\n",
      "[CV] END ....................................n_estimators=60; total time=   1.3s\n",
      "[CV] END ....................................n_estimators=60; total time=   1.3s\n",
      "[CV] END ....................................n_estimators=60; total time=   1.3s\n",
      "[CV] END ....................................n_estimators=61; total time=   1.3s\n",
      "[CV] END ....................................n_estimators=61; total time=   1.3s\n",
      "[CV] END ....................................n_estimators=61; total time=   1.3s\n",
      "[CV] END ....................................n_estimators=61; total time=   1.3s\n",
      "[CV] END ....................................n_estimators=61; total time=   1.3s\n",
      "[CV] END ....................................n_estimators=62; total time=   1.3s\n",
      "[CV] END ....................................n_estimators=62; total time=   1.3s\n",
      "[CV] END ....................................n_estimators=62; total time=   1.3s\n",
      "[CV] END ....................................n_estimators=62; total time=   1.3s\n",
      "[CV] END ....................................n_estimators=62; total time=   1.3s\n",
      "[CV] END ....................................n_estimators=63; total time=   1.3s\n",
      "[CV] END ....................................n_estimators=63; total time=   1.3s\n",
      "[CV] END ....................................n_estimators=63; total time=   1.3s\n",
      "[CV] END ....................................n_estimators=63; total time=   1.3s\n",
      "[CV] END ....................................n_estimators=63; total time=   1.3s\n",
      "[CV] END ....................................n_estimators=64; total time=   1.3s\n",
      "[CV] END ....................................n_estimators=64; total time=   1.3s\n",
      "[CV] END ....................................n_estimators=64; total time=   1.3s\n",
      "[CV] END ....................................n_estimators=64; total time=   1.3s\n",
      "[CV] END ....................................n_estimators=64; total time=   1.4s\n",
      "[CV] END ....................................n_estimators=65; total time=   1.4s\n",
      "[CV] END ....................................n_estimators=65; total time=   1.4s\n",
      "[CV] END ....................................n_estimators=65; total time=   1.4s\n",
      "[CV] END ....................................n_estimators=65; total time=   1.4s\n",
      "[CV] END ....................................n_estimators=65; total time=   1.4s\n",
      "[CV] END ....................................n_estimators=66; total time=   1.4s\n",
      "[CV] END ....................................n_estimators=66; total time=   1.4s\n",
      "[CV] END ....................................n_estimators=66; total time=   1.4s\n",
      "[CV] END ....................................n_estimators=66; total time=   1.4s\n",
      "[CV] END ....................................n_estimators=66; total time=   1.4s\n",
      "[CV] END ....................................n_estimators=67; total time=   1.4s\n",
      "[CV] END ....................................n_estimators=67; total time=   1.4s\n",
      "[CV] END ....................................n_estimators=67; total time=   1.4s\n",
      "[CV] END ....................................n_estimators=67; total time=   1.4s\n",
      "[CV] END ....................................n_estimators=67; total time=   1.4s\n",
      "[CV] END ....................................n_estimators=68; total time=   1.5s\n",
      "[CV] END ....................................n_estimators=68; total time=   1.4s\n",
      "[CV] END ....................................n_estimators=68; total time=   1.4s\n",
      "[CV] END ....................................n_estimators=68; total time=   1.5s\n",
      "[CV] END ....................................n_estimators=68; total time=   1.5s\n",
      "[CV] END ....................................n_estimators=69; total time=   1.5s\n",
      "[CV] END ....................................n_estimators=69; total time=   1.5s\n",
      "[CV] END ....................................n_estimators=69; total time=   1.5s\n",
      "[CV] END ....................................n_estimators=69; total time=   1.5s\n",
      "[CV] END ....................................n_estimators=69; total time=   1.5s\n"
     ]
    },
    {
     "data": {
      "text/plain": [
       "GridSearchCV(estimator=AdaBoostClassifier(learning_rate=1),\n",
       "             param_grid={'n_estimators': range(60, 70)}, scoring='accuracy',\n",
       "             verbose=2)"
      ]
     },
     "execution_count": 88,
     "metadata": {},
     "output_type": "execute_result"
    }
   ],
   "source": [
    "gs = GridSearchCV(AdaBoostClassifier(learning_rate=1),\n",
    "                  {'n_estimators':range(60,70)},\n",
    "                  scoring='accuracy',\n",
    "                  verbose=2)\n",
    "gs.fit(X_train, y_train)"
   ]
  },
  {
   "cell_type": "code",
   "execution_count": 89,
   "metadata": {},
   "outputs": [
    {
     "name": "stdout",
     "output_type": "stream",
     "text": [
      "0.6948150697963422\n",
      "AdaBoostClassifier(learning_rate=1, n_estimators=68)\n",
      "training score: 0.6946073400772125\n",
      "test score: 0.6953376991496433\n"
     ]
    }
   ],
   "source": [
    "print(gs.best_score_)\n",
    "print(gs.best_estimator_)\n",
    "print('training score:', gs.best_estimator_.score(X_train, y_train))\n",
    "print('test score:',gs.best_estimator_.score(X_test, y_test))"
   ]
  },
  {
   "cell_type": "markdown",
   "metadata": {},
   "source": [
    "## Grid search on Extra trees"
   ]
  },
  {
   "cell_type": "code",
   "execution_count": 91,
   "metadata": {},
   "outputs": [
    {
     "name": "stdout",
     "output_type": "stream",
     "text": [
      "Fitting 5 folds for each of 25 candidates, totalling 125 fits\n",
      "[CV] END ......max_depth=44.07861930607705, n_estimators=157; total time=   5.7s\n",
      "[CV] END ......max_depth=44.07861930607705, n_estimators=157; total time=   5.6s\n",
      "[CV] END ......max_depth=44.07861930607705, n_estimators=157; total time=   5.6s\n",
      "[CV] END ......max_depth=44.07861930607705, n_estimators=157; total time=   5.7s\n",
      "[CV] END ......max_depth=44.07861930607705, n_estimators=157; total time=   5.7s\n",
      "[CV] END .......max_depth=26.54942317622031, n_estimators=92; total time=   2.4s\n",
      "[CV] END .......max_depth=26.54942317622031, n_estimators=92; total time=   2.4s\n",
      "[CV] END .......max_depth=26.54942317622031, n_estimators=92; total time=   2.4s\n",
      "[CV] END .......max_depth=26.54942317622031, n_estimators=92; total time=   2.4s\n",
      "[CV] END .......max_depth=26.54942317622031, n_estimators=92; total time=   2.4s\n",
      "[CV] END ......max_depth=31.39218478753778, n_estimators=177; total time=   5.5s\n",
      "[CV] END ......max_depth=31.39218478753778, n_estimators=177; total time=   5.4s\n",
      "[CV] END ......max_depth=31.39218478753778, n_estimators=177; total time=   5.4s\n",
      "[CV] END ......max_depth=31.39218478753778, n_estimators=177; total time=   5.4s\n",
      "[CV] END ......max_depth=31.39218478753778, n_estimators=177; total time=   5.5s\n",
      "[CV] END .....max_depth=42.243033573681274, n_estimators=169; total time=   6.0s\n",
      "[CV] END .....max_depth=42.243033573681274, n_estimators=169; total time=   6.1s\n",
      "[CV] END .....max_depth=42.243033573681274, n_estimators=169; total time=   6.1s\n",
      "[CV] END .....max_depth=42.243033573681274, n_estimators=169; total time=   6.2s\n",
      "[CV] END .....max_depth=42.243033573681274, n_estimators=169; total time=   6.2s\n",
      "[CV] END .......max_depth=34.80168009690614, n_estimators=61; total time=   2.0s\n",
      "[CV] END .......max_depth=34.80168009690614, n_estimators=61; total time=   2.0s\n",
      "[CV] END .......max_depth=34.80168009690614, n_estimators=61; total time=   2.0s\n",
      "[CV] END .......max_depth=34.80168009690614, n_estimators=61; total time=   2.2s\n",
      "[CV] END .......max_depth=34.80168009690614, n_estimators=61; total time=   2.1s\n",
      "[CV] END .....max_depth=50.354504154428646, n_estimators=151; total time=   5.7s\n",
      "[CV] END .....max_depth=50.354504154428646, n_estimators=151; total time=   5.5s\n",
      "[CV] END .....max_depth=50.354504154428646, n_estimators=151; total time=   5.4s\n",
      "[CV] END .....max_depth=50.354504154428646, n_estimators=151; total time=   5.5s\n",
      "[CV] END .....max_depth=50.354504154428646, n_estimators=151; total time=   5.8s\n",
      "[CV] END .......max_depth=9.926824002372134, n_estimators=53; total time=   0.7s\n",
      "[CV] END .......max_depth=9.926824002372134, n_estimators=53; total time=   0.7s\n",
      "[CV] END .......max_depth=9.926824002372134, n_estimators=53; total time=   0.6s\n",
      "[CV] END .......max_depth=9.926824002372134, n_estimators=53; total time=   0.6s\n",
      "[CV] END .......max_depth=9.926824002372134, n_estimators=53; total time=   0.6s\n",
      "[CV] END ......max_depth=39.24569385901623, n_estimators=200; total time=   7.3s\n",
      "[CV] END ......max_depth=39.24569385901623, n_estimators=200; total time=   7.3s\n",
      "[CV] END ......max_depth=39.24569385901623, n_estimators=200; total time=   7.4s\n",
      "[CV] END ......max_depth=39.24569385901623, n_estimators=200; total time=   8.0s\n",
      "[CV] END ......max_depth=39.24569385901623, n_estimators=200; total time=   7.3s\n",
      "[CV] END ......max_depth=36.39651190058836, n_estimators=131; total time=   4.8s\n",
      "[CV] END ......max_depth=36.39651190058836, n_estimators=131; total time=   4.5s\n",
      "[CV] END ......max_depth=36.39651190058836, n_estimators=131; total time=   4.4s\n",
      "[CV] END ......max_depth=36.39651190058836, n_estimators=131; total time=   4.5s\n",
      "[CV] END ......max_depth=36.39651190058836, n_estimators=131; total time=   4.6s\n",
      "[CV] END .....max_depth=13.065259488377588, n_estimators=228; total time=   3.7s\n",
      "[CV] END .....max_depth=13.065259488377588, n_estimators=228; total time=   3.7s\n",
      "[CV] END .....max_depth=13.065259488377588, n_estimators=228; total time=   3.3s\n",
      "[CV] END .....max_depth=13.065259488377588, n_estimators=228; total time=   3.3s\n",
      "[CV] END .....max_depth=13.065259488377588, n_estimators=228; total time=   3.3s\n",
      "[CV] END ......max_depth=45.11067118420204, n_estimators=183; total time=   6.7s\n",
      "[CV] END ......max_depth=45.11067118420204, n_estimators=183; total time=   6.7s\n",
      "[CV] END ......max_depth=45.11067118420204, n_estimators=183; total time=   6.8s\n",
      "[CV] END ......max_depth=45.11067118420204, n_estimators=183; total time=   6.7s\n",
      "[CV] END ......max_depth=45.11067118420204, n_estimators=183; total time=   7.2s\n",
      "[CV] END ........max_depth=5.1864102112654, n_estimators=141; total time=   1.2s\n",
      "[CV] END ........max_depth=5.1864102112654, n_estimators=141; total time=   1.2s\n",
      "[CV] END ........max_depth=5.1864102112654, n_estimators=141; total time=   1.2s\n",
      "[CV] END ........max_depth=5.1864102112654, n_estimators=141; total time=   1.2s\n",
      "[CV] END ........max_depth=5.1864102112654, n_estimators=141; total time=   1.2s\n",
      "[CV] END ......max_depth=11.94646703506102, n_estimators=123; total time=   1.6s\n",
      "[CV] END ......max_depth=11.94646703506102, n_estimators=123; total time=   1.7s\n",
      "[CV] END ......max_depth=11.94646703506102, n_estimators=123; total time=   1.6s\n",
      "[CV] END ......max_depth=11.94646703506102, n_estimators=123; total time=   1.6s\n",
      "[CV] END ......max_depth=11.94646703506102, n_estimators=123; total time=   1.6s\n",
      "[CV] END .....max_depth=17.695092567893766, n_estimators=160; total time=   2.8s\n",
      "[CV] END .....max_depth=17.695092567893766, n_estimators=160; total time=   2.8s\n",
      "[CV] END .....max_depth=17.695092567893766, n_estimators=160; total time=   2.8s\n",
      "[CV] END .....max_depth=17.695092567893766, n_estimators=160; total time=   2.9s\n",
      "[CV] END .....max_depth=17.695092567893766, n_estimators=160; total time=   2.9s\n",
      "[CV] END .....max_depth=44.396740650678765, n_estimators=124; total time=   4.6s\n",
      "[CV] END .....max_depth=44.396740650678765, n_estimators=124; total time=   4.7s\n",
      "[CV] END .....max_depth=44.396740650678765, n_estimators=124; total time=   4.8s\n",
      "[CV] END .....max_depth=44.396740650678765, n_estimators=124; total time=   4.5s\n",
      "[CV] END .....max_depth=44.396740650678765, n_estimators=124; total time=   4.5s\n",
      "[CV] END ......max_depth=24.293454930600948, n_estimators=95; total time=   2.3s\n",
      "[CV] END ......max_depth=24.293454930600948, n_estimators=95; total time=   2.3s\n",
      "[CV] END ......max_depth=24.293454930600948, n_estimators=95; total time=   2.3s\n",
      "[CV] END ......max_depth=24.293454930600948, n_estimators=95; total time=   2.4s\n",
      "[CV] END ......max_depth=24.293454930600948, n_estimators=95; total time=   2.3s\n",
      "[CV] END ......max_depth=44.95241953628209, n_estimators=220; total time=   8.1s\n",
      "[CV] END ......max_depth=44.95241953628209, n_estimators=220; total time=   8.2s\n",
      "[CV] END ......max_depth=44.95241953628209, n_estimators=220; total time=   8.1s\n",
      "[CV] END ......max_depth=44.95241953628209, n_estimators=220; total time=   8.1s\n",
      "[CV] END ......max_depth=44.95241953628209, n_estimators=220; total time=   8.3s\n",
      "[CV] END ......max_depth=16.57987124795192, n_estimators=228; total time=   3.9s\n",
      "[CV] END ......max_depth=16.57987124795192, n_estimators=228; total time=   3.9s\n",
      "[CV] END ......max_depth=16.57987124795192, n_estimators=228; total time=   3.9s\n",
      "[CV] END ......max_depth=16.57987124795192, n_estimators=228; total time=   3.9s\n",
      "[CV] END ......max_depth=16.57987124795192, n_estimators=228; total time=   3.9s\n",
      "[CV] END .....max_depth=24.638246176805723, n_estimators=109; total time=   2.7s\n",
      "[CV] END .....max_depth=24.638246176805723, n_estimators=109; total time=   2.6s\n",
      "[CV] END .....max_depth=24.638246176805723, n_estimators=109; total time=   2.8s\n",
      "[CV] END .....max_depth=24.638246176805723, n_estimators=109; total time=   2.7s\n",
      "[CV] END .....max_depth=24.638246176805723, n_estimators=109; total time=   2.6s\n",
      "[CV] END ......max_depth=41.68963925249928, n_estimators=120; total time=   4.4s\n",
      "[CV] END ......max_depth=41.68963925249928, n_estimators=120; total time=   4.3s\n",
      "[CV] END ......max_depth=41.68963925249928, n_estimators=120; total time=   4.3s\n",
      "[CV] END ......max_depth=41.68963925249928, n_estimators=120; total time=   4.3s\n",
      "[CV] END ......max_depth=41.68963925249928, n_estimators=120; total time=   4.3s\n",
      "[CV] END .....max_depth=26.436864672258814, n_estimators=110; total time=   3.0s\n",
      "[CV] END .....max_depth=26.436864672258814, n_estimators=110; total time=   3.0s\n",
      "[CV] END .....max_depth=26.436864672258814, n_estimators=110; total time=   3.0s\n",
      "[CV] END .....max_depth=26.436864672258814, n_estimators=110; total time=   2.8s\n",
      "[CV] END .....max_depth=26.436864672258814, n_estimators=110; total time=   2.8s\n",
      "[CV] END ......max_depth=46.49071750264031, n_estimators=121; total time=   4.3s\n",
      "[CV] END ......max_depth=46.49071750264031, n_estimators=121; total time=   4.3s\n",
      "[CV] END ......max_depth=46.49071750264031, n_estimators=121; total time=   4.4s\n",
      "[CV] END ......max_depth=46.49071750264031, n_estimators=121; total time=   4.4s\n",
      "[CV] END ......max_depth=46.49071750264031, n_estimators=121; total time=   4.4s\n",
      "[CV] END .......max_depth=40.2560350696087, n_estimators=108; total time=   3.8s\n",
      "[CV] END .......max_depth=40.2560350696087, n_estimators=108; total time=   4.0s\n",
      "[CV] END .......max_depth=40.2560350696087, n_estimators=108; total time=   3.8s\n",
      "[CV] END .......max_depth=40.2560350696087, n_estimators=108; total time=   4.1s\n",
      "[CV] END .......max_depth=40.2560350696087, n_estimators=108; total time=   4.1s\n",
      "[CV] END ......max_depth=36.26148222928236, n_estimators=198; total time=   7.1s\n",
      "[CV] END ......max_depth=36.26148222928236, n_estimators=198; total time=   6.9s\n",
      "[CV] END ......max_depth=36.26148222928236, n_estimators=198; total time=   6.9s\n",
      "[CV] END ......max_depth=36.26148222928236, n_estimators=198; total time=   6.9s\n",
      "[CV] END ......max_depth=36.26148222928236, n_estimators=198; total time=   6.9s\n",
      "[CV] END ......max_depth=51.39937516570028, n_estimators=234; total time=   8.8s\n",
      "[CV] END ......max_depth=51.39937516570028, n_estimators=234; total time=   8.8s\n",
      "[CV] END ......max_depth=51.39937516570028, n_estimators=234; total time=   8.8s\n",
      "[CV] END ......max_depth=51.39937516570028, n_estimators=234; total time=   8.9s\n",
      "[CV] END ......max_depth=51.39937516570028, n_estimators=234; total time=   8.8s\n"
     ]
    },
    {
     "data": {
      "text/plain": [
       "RandomizedSearchCV(estimator=ExtraTreesClassifier(), n_iter=25,\n",
       "                   param_distributions={'max_depth': <scipy.stats._distn_infrastructure.rv_frozen object at 0x16a308250>,\n",
       "                                        'n_estimators': range(50, 250)},\n",
       "                   scoring='accuracy', verbose=2)"
      ]
     },
     "execution_count": 91,
     "metadata": {},
     "output_type": "execute_result"
    }
   ],
   "source": [
    "gs = RandomizedSearchCV(ExtraTreesClassifier(),\n",
    "                  {'max_depth':uniform(2,50), 'n_estimators':range(50,250)},\n",
    "                  n_iter=25,\n",
    "                  scoring='accuracy',\n",
    "                  verbose=2)\n",
    "gs.fit(X_train, y_train)"
   ]
  },
  {
   "cell_type": "code",
   "execution_count": 99,
   "metadata": {},
   "outputs": [
    {
     "name": "stdout",
     "output_type": "stream",
     "text": [
      "0.6938010219435735\n",
      "ExtraTreesClassifier(max_depth=15, n_estimators=150)\n",
      "training score: 0.6802399452670674\n",
      "test score: 0.6712931287264197\n"
     ]
    }
   ],
   "source": [
    "print(gs.best_score_)\n",
    "print(gs.best_estimator_)\n",
    "# overfitting ... drop down n_estimators\n",
    "gs.best_estimator_.set_params(n_estimators=150, max_depth=15)\n",
    "gs.best_estimator_.fit(X_train, y_train)\n",
    "print('training score:', gs.best_estimator_.score(X_train, y_train))\n",
    "print('test score:',gs.best_estimator_.score(X_test, y_test))"
   ]
  },
  {
   "cell_type": "markdown",
   "metadata": {},
   "source": [
    "## Grid search on K-Nearest Neighbours classifier"
   ]
  },
  {
   "cell_type": "code",
   "execution_count": 15,
   "metadata": {},
   "outputs": [
    {
     "name": "stdout",
     "output_type": "stream",
     "text": [
      "Fitting 5 folds for each of 25 candidates, totalling 125 fits\n",
      "[CV] END ....................n_neighbors=64, weights=uniform; total time=   2.4s\n",
      "[CV] END ....................n_neighbors=64, weights=uniform; total time=   2.3s\n",
      "[CV] END ....................n_neighbors=64, weights=uniform; total time=   2.3s\n",
      "[CV] END ....................n_neighbors=64, weights=uniform; total time=   2.4s\n",
      "[CV] END ....................n_neighbors=64, weights=uniform; total time=   2.4s\n",
      "[CV] END ...................n_neighbors=139, weights=uniform; total time=   3.2s\n",
      "[CV] END ...................n_neighbors=139, weights=uniform; total time=   3.2s\n",
      "[CV] END ...................n_neighbors=139, weights=uniform; total time=   3.6s\n",
      "[CV] END ...................n_neighbors=139, weights=uniform; total time=   3.4s\n",
      "[CV] END ...................n_neighbors=139, weights=uniform; total time=   3.4s\n",
      "[CV] END ...................n_neighbors=117, weights=uniform; total time=   3.0s\n",
      "[CV] END ...................n_neighbors=117, weights=uniform; total time=   3.1s\n",
      "[CV] END ...................n_neighbors=117, weights=uniform; total time=   3.5s\n",
      "[CV] END ...................n_neighbors=117, weights=uniform; total time=   3.1s\n",
      "[CV] END ...................n_neighbors=117, weights=uniform; total time=   3.0s\n",
      "[CV] END ....................n_neighbors=88, weights=uniform; total time=   2.6s\n",
      "[CV] END ....................n_neighbors=88, weights=uniform; total time=   2.6s\n",
      "[CV] END ....................n_neighbors=88, weights=uniform; total time=   2.6s\n",
      "[CV] END ....................n_neighbors=88, weights=uniform; total time=   2.6s\n",
      "[CV] END ....................n_neighbors=88, weights=uniform; total time=   2.7s\n",
      "[CV] END ....................n_neighbors=39, weights=uniform; total time=   1.8s\n",
      "[CV] END ....................n_neighbors=39, weights=uniform; total time=   2.0s\n",
      "[CV] END ....................n_neighbors=39, weights=uniform; total time=   1.9s\n",
      "[CV] END ....................n_neighbors=39, weights=uniform; total time=   1.9s\n",
      "[CV] END ....................n_neighbors=39, weights=uniform; total time=   1.9s\n",
      "[CV] END ...................n_neighbors=127, weights=uniform; total time=   3.0s\n",
      "[CV] END ...................n_neighbors=127, weights=uniform; total time=   3.1s\n",
      "[CV] END ...................n_neighbors=127, weights=uniform; total time=   3.1s\n",
      "[CV] END ...................n_neighbors=127, weights=uniform; total time=   3.2s\n",
      "[CV] END ...................n_neighbors=127, weights=uniform; total time=   3.1s\n",
      "[CV] END ....................n_neighbors=33, weights=uniform; total time=   1.7s\n",
      "[CV] END ....................n_neighbors=33, weights=uniform; total time=   1.9s\n",
      "[CV] END ....................n_neighbors=33, weights=uniform; total time=   1.8s\n",
      "[CV] END ....................n_neighbors=33, weights=uniform; total time=   2.0s\n",
      "[CV] END ....................n_neighbors=33, weights=uniform; total time=   1.9s\n",
      "[CV] END .....................n_neighbors=7, weights=uniform; total time=   1.1s\n",
      "[CV] END .....................n_neighbors=7, weights=uniform; total time=   1.3s\n",
      "[CV] END .....................n_neighbors=7, weights=uniform; total time=   1.2s\n",
      "[CV] END .....................n_neighbors=7, weights=uniform; total time=   1.2s\n",
      "[CV] END .....................n_neighbors=7, weights=uniform; total time=   1.1s\n",
      "[CV] END ....................n_neighbors=98, weights=uniform; total time=   2.7s\n",
      "[CV] END ....................n_neighbors=98, weights=uniform; total time=   2.8s\n",
      "[CV] END ....................n_neighbors=98, weights=uniform; total time=   2.7s\n",
      "[CV] END ....................n_neighbors=98, weights=uniform; total time=   2.8s\n",
      "[CV] END ....................n_neighbors=98, weights=uniform; total time=   2.7s\n",
      "[CV] END ....................n_neighbors=74, weights=uniform; total time=   2.6s\n",
      "[CV] END ....................n_neighbors=74, weights=uniform; total time=   2.7s\n",
      "[CV] END ....................n_neighbors=74, weights=uniform; total time=   2.5s\n",
      "[CV] END ....................n_neighbors=74, weights=uniform; total time=   2.5s\n",
      "[CV] END ....................n_neighbors=74, weights=uniform; total time=   2.5s\n",
      "[CV] END ...................n_neighbors=130, weights=uniform; total time=   3.1s\n",
      "[CV] END ...................n_neighbors=130, weights=uniform; total time=   3.2s\n",
      "[CV] END ...................n_neighbors=130, weights=uniform; total time=   3.1s\n",
      "[CV] END ...................n_neighbors=130, weights=uniform; total time=   3.2s\n",
      "[CV] END ...................n_neighbors=130, weights=uniform; total time=   3.2s\n",
      "[CV] END ...................n_neighbors=107, weights=uniform; total time=   2.7s\n",
      "[CV] END ...................n_neighbors=107, weights=uniform; total time=   2.9s\n",
      "[CV] END ...................n_neighbors=107, weights=uniform; total time=   2.8s\n",
      "[CV] END ...................n_neighbors=107, weights=uniform; total time=   2.8s\n",
      "[CV] END ...................n_neighbors=107, weights=uniform; total time=   2.9s\n",
      "[CV] END ...................n_neighbors=108, weights=uniform; total time=   3.0s\n",
      "[CV] END ...................n_neighbors=108, weights=uniform; total time=   2.9s\n",
      "[CV] END ...................n_neighbors=108, weights=uniform; total time=   3.0s\n",
      "[CV] END ...................n_neighbors=108, weights=uniform; total time=   2.9s\n",
      "[CV] END ...................n_neighbors=108, weights=uniform; total time=   3.0s\n",
      "[CV] END ...................n_neighbors=109, weights=uniform; total time=   2.8s\n",
      "[CV] END ...................n_neighbors=109, weights=uniform; total time=   3.0s\n",
      "[CV] END ...................n_neighbors=109, weights=uniform; total time=   2.9s\n",
      "[CV] END ...................n_neighbors=109, weights=uniform; total time=   2.9s\n",
      "[CV] END ...................n_neighbors=109, weights=uniform; total time=   3.0s\n",
      "[CV] END ....................n_neighbors=70, weights=uniform; total time=   2.4s\n",
      "[CV] END ....................n_neighbors=70, weights=uniform; total time=   2.5s\n",
      "[CV] END ....................n_neighbors=70, weights=uniform; total time=   2.5s\n",
      "[CV] END ....................n_neighbors=70, weights=uniform; total time=   2.5s\n",
      "[CV] END ....................n_neighbors=70, weights=uniform; total time=   2.4s\n",
      "[CV] END ....................n_neighbors=50, weights=uniform; total time=   2.1s\n",
      "[CV] END ....................n_neighbors=50, weights=uniform; total time=   2.1s\n",
      "[CV] END ....................n_neighbors=50, weights=uniform; total time=   2.1s\n",
      "[CV] END ....................n_neighbors=50, weights=uniform; total time=   2.1s\n",
      "[CV] END ....................n_neighbors=50, weights=uniform; total time=   2.1s\n",
      "[CV] END .....................n_neighbors=6, weights=uniform; total time=   1.1s\n",
      "[CV] END .....................n_neighbors=6, weights=uniform; total time=   1.1s\n",
      "[CV] END .....................n_neighbors=6, weights=uniform; total time=   1.1s\n",
      "[CV] END .....................n_neighbors=6, weights=uniform; total time=   1.2s\n",
      "[CV] END .....................n_neighbors=6, weights=uniform; total time=   1.1s\n",
      "[CV] END ...................n_neighbors=137, weights=uniform; total time=   3.2s\n",
      "[CV] END ...................n_neighbors=137, weights=uniform; total time=   3.3s\n",
      "[CV] END ...................n_neighbors=137, weights=uniform; total time=   3.2s\n",
      "[CV] END ...................n_neighbors=137, weights=uniform; total time=   3.2s\n",
      "[CV] END ...................n_neighbors=137, weights=uniform; total time=   3.3s\n",
      "[CV] END ...................n_neighbors=104, weights=uniform; total time=   2.8s\n",
      "[CV] END ...................n_neighbors=104, weights=uniform; total time=   2.9s\n",
      "[CV] END ...................n_neighbors=104, weights=uniform; total time=   2.8s\n",
      "[CV] END ...................n_neighbors=104, weights=uniform; total time=   2.8s\n",
      "[CV] END ...................n_neighbors=104, weights=uniform; total time=   2.8s\n",
      "[CV] END ....................n_neighbors=15, weights=uniform; total time=   1.3s\n",
      "[CV] END ....................n_neighbors=15, weights=uniform; total time=   1.5s\n",
      "[CV] END ....................n_neighbors=15, weights=uniform; total time=   1.8s\n",
      "[CV] END ....................n_neighbors=15, weights=uniform; total time=   1.6s\n",
      "[CV] END ....................n_neighbors=15, weights=uniform; total time=   1.6s\n",
      "[CV] END ....................n_neighbors=90, weights=uniform; total time=   2.7s\n",
      "[CV] END ....................n_neighbors=90, weights=uniform; total time=   2.7s\n",
      "[CV] END ....................n_neighbors=90, weights=uniform; total time=   2.6s\n",
      "[CV] END ....................n_neighbors=90, weights=uniform; total time=   2.6s\n",
      "[CV] END ....................n_neighbors=90, weights=uniform; total time=   2.8s\n",
      "[CV] END ....................n_neighbors=34, weights=uniform; total time=   1.8s\n",
      "[CV] END ....................n_neighbors=34, weights=uniform; total time=   1.8s\n",
      "[CV] END ....................n_neighbors=34, weights=uniform; total time=   1.8s\n",
      "[CV] END ....................n_neighbors=34, weights=uniform; total time=   1.8s\n",
      "[CV] END ....................n_neighbors=34, weights=uniform; total time=   1.8s\n",
      "[CV] END ...................n_neighbors=103, weights=uniform; total time=   2.9s\n",
      "[CV] END ...................n_neighbors=103, weights=uniform; total time=   2.9s\n",
      "[CV] END ...................n_neighbors=103, weights=uniform; total time=   2.8s\n",
      "[CV] END ...................n_neighbors=103, weights=uniform; total time=   2.9s\n",
      "[CV] END ...................n_neighbors=103, weights=uniform; total time=   2.9s\n",
      "[CV] END ...................n_neighbors=143, weights=uniform; total time=   3.4s\n",
      "[CV] END ...................n_neighbors=143, weights=uniform; total time=   3.3s\n",
      "[CV] END ...................n_neighbors=143, weights=uniform; total time=   3.4s\n",
      "[CV] END ...................n_neighbors=143, weights=uniform; total time=   3.2s\n",
      "[CV] END ...................n_neighbors=143, weights=uniform; total time=   3.3s\n",
      "[CV] END .....................n_neighbors=5, weights=uniform; total time=   1.1s\n",
      "[CV] END .....................n_neighbors=5, weights=uniform; total time=   1.1s\n",
      "[CV] END .....................n_neighbors=5, weights=uniform; total time=   1.1s\n",
      "[CV] END .....................n_neighbors=5, weights=uniform; total time=   1.2s\n",
      "[CV] END .....................n_neighbors=5, weights=uniform; total time=   1.1s\n"
     ]
    },
    {
     "data": {
      "text/plain": [
       "RandomizedSearchCV(estimator=KNeighborsClassifier(), n_iter=25,\n",
       "                   param_distributions={'n_neighbors': range(1, 150),\n",
       "                                        'weights': ['uniform']},\n",
       "                   scoring='accuracy', verbose=2)"
      ]
     },
     "execution_count": 15,
     "metadata": {},
     "output_type": "execute_result"
    }
   ],
   "source": [
    "gs = RandomizedSearchCV(KNeighborsClassifier(),\n",
    "                  {'n_neighbors':range(1,150), 'weights':['uniform']},\n",
    "                  n_iter=25,\n",
    "                  scoring='accuracy',\n",
    "                  verbose=2)\n",
    "gs.fit(X_train, y_train)"
   ]
  },
  {
   "cell_type": "code",
   "execution_count": 16,
   "metadata": {},
   "outputs": [
    {
     "name": "stdout",
     "output_type": "stream",
     "text": [
      "0.6765381682905695\n",
      "KNeighborsClassifier(n_neighbors=64)\n",
      "training score: 0.6926281581390803\n",
      "test score: 0.6807741178770403\n"
     ]
    }
   ],
   "source": [
    "print(gs.best_score_)\n",
    "print(gs.best_estimator_)\n",
    "# overfitting ... drop down n_neighbors and (more significantly) set weights to uniform\n",
    "# tried with weights=distance but that overfitted horribly, so abandoned it as an idea\n",
    "gs.best_estimator_.fit(X_train, y_train)\n",
    "print('training score:', gs.best_estimator_.score(X_train, y_train))\n",
    "print('test score:',gs.best_estimator_.score(X_test, y_test))"
   ]
  },
  {
   "cell_type": "markdown",
   "metadata": {},
   "source": [
    "## Compare models\n",
    "\n",
    "using optimised hyperparameters for each from grid/random searches already done"
   ]
  },
  {
   "cell_type": "code",
   "execution_count": 18,
   "metadata": {},
   "outputs": [
    {
     "name": "stdout",
     "output_type": "stream",
     "text": [
      "Multi-layer perceptron:\n",
      "test: 0.711591086786552, train: 0.7121145482089625\n"
     ]
    },
    {
     "data": {
      "image/png": "[encoded data removed]",
      "text/plain": [
       "<Figure size 432x288 with 2 Axes>"
      ]
     },
     "metadata": {
      "needs_background": "light"
     },
     "output_type": "display_data"
    },
    {
     "name": "stdout",
     "output_type": "stream",
     "text": [
      "-------------\n",
      "Random Forest:\n",
      "test: 0.6968334636434714, train: 0.7004227141670332\n"
     ]
    },
    {
     "data": {
      "image/png": "[encoded data removed]",
      "text/plain": [
       "<Figure size 432x288 with 2 Axes>"
      ]
     },
     "metadata": {
      "needs_background": "light"
     },
     "output_type": "display_data"
    },
    {
     "name": "stdout",
     "output_type": "stream",
     "text": [
      "-------------\n",
      "Bagging:\n",
      "test: 0.6954652071931197, train: 0.7172579778136148\n"
     ]
    },
    {
     "data": {
      "image/png": "[encoded data removed]",
      "text/plain": [
       "<Figure size 432x288 with 2 Axes>"
      ]
     },
     "metadata": {
      "needs_background": "light"
     },
     "output_type": "display_data"
    },
    {
     "name": "stdout",
     "output_type": "stream",
     "text": [
      "-------------\n",
      "Ada boost:\n",
      "test: 0.6979085222830336, train: 0.6960856179445829\n"
     ]
    },
    {
     "data": {
      "image/png": "[encoded data removed]",
      "text/plain": [
       "<Figure size 432x288 with 2 Axes>"
      ]
     },
     "metadata": {
      "needs_background": "light"
     },
     "output_type": "display_data"
    },
    {
     "name": "stdout",
     "output_type": "stream",
     "text": [
      "-------------\n",
      "Extra trees:\n",
      "test: 0.6768960125097733, train: 0.6792381371255437\n"
     ]
    },
    {
     "data": {
      "image/png": "[encoded data removed]",
      "text/plain": [
       "<Figure size 432x288 with 2 Axes>"
      ]
     },
     "metadata": {
      "needs_background": "light"
     },
     "output_type": "display_data"
    },
    {
     "name": "stdout",
     "output_type": "stream",
     "text": [
      "-------------\n",
      "K neighbours:\n",
      "test: 0.6823690383111806, train: 0.6859820163221424\n"
     ]
    },
    {
     "data": {
      "image/png": "[encoded data removed]",
      "text/plain": [
       "<Figure size 432x288 with 2 Axes>"
      ]
     },
     "metadata": {
      "needs_background": "light"
     },
     "output_type": "display_data"
    },
    {
     "name": "stdout",
     "output_type": "stream",
     "text": [
      "-------------\n"
     ]
    }
   ],
   "source": [
    "models = {\n",
    "    # 'Multi-layer perceptron': [MLPClassifier(activation='logistic', hidden_layer_sizes=(50, 50),learning_rate='adaptive')],\n",
    "    'Multi-layer perceptron': [MLPClassifier(hidden_layer_sizes=(50, 50))],\n",
    "    'Random Forest': [RandomForestClassifier(max_depth=13, n_estimators=20)],\n",
    "    'Bagging': [BaggingClassifier(n_estimators=30, max_samples=2700)],\n",
    "    'Ada boost': [AdaBoostClassifier(learning_rate=1, n_estimators=68)],\n",
    "    'Extra trees': [ExtraTreesClassifier(n_estimators=150, max_depth=15)],\n",
    "    'K neighbours': [KNeighborsClassifier(n_neighbors=100, weights='uniform')]\n",
    "}\n",
    "\n",
    "for model in models:\n",
    "    print(f\"{model}:\")\n",
    "    test_model = models[model][0]\n",
    "    test_model.fit(X_train, y_train)\n",
    "    acc = accuracy_score(y_val, test_model.predict(X_val))\n",
    "    train_acc = accuracy_score(y_train, test_model.predict(X_train))\n",
    "    print(f\"test: {acc}, train: {train_acc}\")\n",
    "    models[model].extend([acc, train_acc])\n",
    "    fig=plot_confusion_matrix(test_model, X_val, y_val)\n",
    "    fig.figure_.suptitle(\"Confusion Matrix for  \" + str(test_model))\n",
    "    plt.show()\n",
    "    print('-------------')"
   ]
  },
  {
   "cell_type": "markdown",
   "metadata": {},
   "source": [
    "## Going forward with the MLP"
   ]
  },
  {
   "cell_type": "code",
   "execution_count": 20,
   "metadata": {},
   "outputs": [
    {
     "name": "stdout",
     "output_type": "stream",
     "text": [
      "validation score: 0.7071931196247068\n"
     ]
    }
   ],
   "source": [
    "football_classifier = MLPClassifier(hidden_layer_sizes=(50, 50))\n",
    "football_classifier.fit(X_train, y_train)\n",
    "print('validation score:', football_classifier.score(X_val, y_val))"
   ]
  },
  {
   "cell_type": "code",
   "execution_count": 21,
   "metadata": {},
   "outputs": [
    {
     "data": {
      "image/png": "[encoded data removed]",
      "text/plain": [
       "<Figure size 432x288 with 2 Axes>"
      ]
     },
     "metadata": {
      "needs_background": "light"
     },
     "output_type": "display_data"
    }
   ],
   "source": [
    "fig=plot_confusion_matrix(football_classifier, X_test, y_test)\n",
    "fig.figure_.suptitle(\"Confusion Matrix for Football Classifier (MLP)\")\n",
    "plt.show()"
   ]
  },
  {
   "cell_type": "code",
   "execution_count": 22,
   "metadata": {},
   "outputs": [
    {
     "data": {
      "text/plain": [
       "['football_classifier.pkl']"
      ]
     },
     "execution_count": 22,
     "metadata": {},
     "output_type": "execute_result"
    }
   ],
   "source": [
    "# save model\n",
    "from joblib import dump\n",
    "dump(football_classifier, 'football_classifier.pkl')"
   ]
  },
  {
   "cell_type": "code",
   "execution_count": null,
   "metadata": {},
   "outputs": [],
   "source": []
  }
 ],
 "metadata": {
  "interpreter": {
   "hash": "e88a1a0c3d8d2b7fbd5fda69cfe9ad60bb676b2517a1f48e336cb6c7d52c7d19"
  },
  "kernelspec": {
   "display_name": "Python 3.9.7 ('datascience')",
   "language": "python",
   "name": "python3"
  },
  "language_info": {
   "codemirror_mode": {
    "name": "ipython",
    "version": 3
   },
   "file_extension": ".py",
   "mimetype": "text/x-python",
   "name": "python",
   "nbconvert_exporter": "python",
   "pygments_lexer": "ipython3",
   "version": "3.9.7"
  },
  "orig_nbformat": 4
 },
 "nbformat": 4,
 "nbformat_minor": 2
}
