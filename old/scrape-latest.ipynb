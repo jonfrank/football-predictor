{
 "cells": [
  {
   "cell_type": "code",
   "execution_count": 105,
   "metadata": {},
   "outputs": [],
   "source": [
    "import pandas as pd\n",
    "import numpy as np\n",
    "from fuzzywuzzy import process\n",
    "from datetime import datetime\n"
   ]
  },
  {
   "cell_type": "markdown",
   "metadata": {},
   "source": [
    "# First get streaks"
   ]
  },
  {
   "cell_type": "code",
   "execution_count": 61,
   "metadata": {},
   "outputs": [],
   "source": [
    "def res_int(res):\n",
    "    return 1 if res=='H' else -1 if res=='A' else 0\n",
    "\n",
    "def result(row, team):\n",
    "    return res_int(row['FTR']) * (1 if row['HomeTeam']==team else -1)\n",
    "\n"
   ]
  },
  {
   "cell_type": "code",
   "execution_count": 62,
   "metadata": {},
   "outputs": [],
   "source": [
    "latest = pd.ExcelFile('https://www.football-data.co.uk/mmz4281/2122/all-euro-data-2021-2022.xlsx')"
   ]
  },
  {
   "cell_type": "code",
   "execution_count": 89,
   "metadata": {},
   "outputs": [
    {
     "data": {
      "text/plain": [
       "['E0',\n",
       " 'E1',\n",
       " 'E2',\n",
       " 'E3',\n",
       " 'EC',\n",
       " 'SC0',\n",
       " 'SC1',\n",
       " 'SC2',\n",
       " 'SC3',\n",
       " 'D1',\n",
       " 'D2',\n",
       " 'SP1',\n",
       " 'SP2',\n",
       " 'I1',\n",
       " 'I2',\n",
       " 'F1',\n",
       " 'F2',\n",
       " 'B1',\n",
       " 'N1',\n",
       " 'P1',\n",
       " 'T1',\n",
       " 'G1']"
      ]
     },
     "execution_count": 89,
     "metadata": {},
     "output_type": "execute_result"
    }
   ],
   "source": [
    "latest.sheet_names"
   ]
  },
  {
   "cell_type": "code",
   "execution_count": 75,
   "metadata": {},
   "outputs": [],
   "source": [
    "def league_details(league):\n",
    "    return pd.read_excel('https://www.football-data.co.uk/mmz4281/2122/all-euro-data-2021-2022.xlsx', sheet_name=league)"
   ]
  },
  {
   "cell_type": "code",
   "execution_count": 178,
   "metadata": {},
   "outputs": [],
   "source": [
    "def streak_feature(team_name, results):\n",
    "    team_results = results.query('HomeTeam == @team_name or AwayTeam == @team_name').copy()\n",
    "    team_results['team_res'] = team_results.apply(lambda row: result(row, team_name), axis=1)\n",
    "    team_results['start_of_streak'] = team_results['team_res'].ne(team_results['team_res'].shift())\n",
    "    team_results['streak_id'] = team_results['start_of_streak'].cumsum()\n",
    "    team_results['streak_result'] = team_results['team_res']\n",
    "    team_results['streak_counter'] = team_results.groupby('streak_id').cumcount()\n",
    "    team_results['streak_feature'] = team_results['streak_counter'] * team_results['streak_result']\n",
    "    streak_feature = team_results['streak_feature'].tolist()[-1]\n",
    "    if streak_feature != 0:\n",
    "        streak_feature = (abs(streak_feature)+1) * np.sign(streak_feature)\n",
    "    return streak_feature\n"
   ]
  },
  {
   "cell_type": "code",
   "execution_count": 186,
   "metadata": {},
   "outputs": [],
   "source": [
    "def goals(team, results):\n",
    "    home_matches = results.query('HomeTeam == @team')\n",
    "    goals_h_f = home_matches['FTHG'].sum()\n",
    "    goals_h_a = home_matches['FTAG'].sum()\n",
    "    away_matches = results.query('AwayTeam == @team')\n",
    "    goals_a_a = away_matches['FTHG'].sum()\n",
    "    goals_a_f = away_matches['FTAG'].sum()\n",
    "    return goals_h_f, goals_h_a, goals_a_f, goals_a_a"
   ]
  },
  {
   "cell_type": "code",
   "execution_count": 180,
   "metadata": {},
   "outputs": [],
   "source": [
    "def streaks(home, away, results):\n",
    "    match_teams = results['HomeTeam'].unique()\n",
    "    matched_team_name = process.extractOne(home, match_teams)[0]\n",
    "    home_streak = streak_feature(matched_team_name, results)\n",
    "    home_goals = goals(matched_team_name, results)\n",
    "    matched_team_name = process.extractOne(away, match_teams)[0]\n",
    "    away_streak = streak_feature(matched_team_name, results)\n",
    "    away_goals = goals(matched_team_name, results)\n",
    "    return home_streak, home_goals, away_streak, away_goals"
   ]
  },
  {
   "cell_type": "markdown",
   "metadata": {},
   "source": [
    "# Then get Elos"
   ]
  },
  {
   "cell_type": "code",
   "execution_count": 181,
   "metadata": {},
   "outputs": [],
   "source": [
    "elo_df = pd.read_csv('http://api.clubelo.com/{}'.format(datetime.now().strftime(\"%Y-%m-%d\")))"
   ]
  },
  {
   "cell_type": "code",
   "execution_count": 182,
   "metadata": {},
   "outputs": [],
   "source": [
    "def elos(home, away, league_id):\n",
    "    country = {'E':'ENG','D':'GER','S':'ESP','I':'ITA'}[league_id[0]]\n",
    "    elo_teams = elo_df.query('Country == @country')\n",
    "    match_teams = elo_teams['Club'].unique()\n",
    "    matched_team_name = process.extractOne(home, match_teams)[0]\n",
    "    home_elo = elo_df.query('Club == @matched_team_name')['Elo'].to_list()[0]\n",
    "    matched_team_name = process.extractOne(away, match_teams)[0]\n",
    "    away_elo = elo_df.query('Club == @matched_team_name')['Elo'].to_list()[0]\n",
    "    return home_elo, away_elo"
   ]
  },
  {
   "cell_type": "markdown",
   "metadata": {},
   "source": [
    "# Get the details"
   ]
  },
  {
   "cell_type": "code",
   "execution_count": 187,
   "metadata": {},
   "outputs": [
    {
     "name": "stdout",
     "output_type": "stream",
     "text": [
      "tottenham (H) have a streak of 2 and elo of 1827.91516113 - goals at home 26 F / 16 A, away 21 F / 20 A\n",
      "liverpool (H) have a streak of 9 and elo of 2030.35375977 - goals at home 37 F / 7 A, away 38 F / 13 A\n"
     ]
    }
   ],
   "source": [
    "league_id = 'E0'\n",
    "home_team = 'tottenham'\n",
    "away_team = 'liverpool'\n",
    "all_results = league_details(league_id)\n",
    "home_streak, home_goals, away_streak, away_goals = streaks(home_team, away_team, all_results)\n",
    "home_elo, away_elo = elos(home_team,away_team,league_id)\n",
    "print('{} (H) have a streak of {} and elo of {} - goals at home {} F / {} A, away {} F / {} A'.format(home_team, home_streak, home_elo, home_goals[0], home_goals[1], home_goals[2], home_goals[3]))\n",
    "print('{} (H) have a streak of {} and elo of {} - goals at home {} F / {} A, away {} F / {} A'.format(away_team, away_streak, away_elo, away_goals[0], away_goals[1], away_goals[2], away_goals[3]))\n"
   ]
  }
 ],
 "metadata": {
  "interpreter": {
   "hash": "e88a1a0c3d8d2b7fbd5fda69cfe9ad60bb676b2517a1f48e336cb6c7d52c7d19"
  },
  "kernelspec": {
   "display_name": "Python 3.9.7 ('datascience')",
   "language": "python",
   "name": "python3"
  },
  "language_info": {
   "codemirror_mode": {
    "name": "ipython",
    "version": 3
   },
   "file_extension": ".py",
   "mimetype": "text/x-python",
   "name": "python",
   "nbconvert_exporter": "python",
   "pygments_lexer": "ipython3",
   "version": "3.9.7"
  },
  "orig_nbformat": 4
 },
 "nbformat": 4,
 "nbformat_minor": 2
}
