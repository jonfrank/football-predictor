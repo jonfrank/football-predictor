{
 "cells": [
  {
   "cell_type": "code",
   "execution_count": 1,
   "metadata": {},
   "outputs": [],
   "source": [
    "from selenium import webdriver\n",
    "from webdriver_manager.chrome import ChromeDriverManager\n",
    "import time\n",
    "from bs4 import BeautifulSoup as bs\n",
    "import requests\n",
    "from tqdm import tqdm\n",
    "import pandas as pd\n",
    "import os\n",
    "import pathlib\n",
    "import pickle\n",
    "\n",
    "class Scraper:\n",
    "    def __init__(self, league:str, url:str='https://www.besoccer.com/competition', year: int=2022) -> None:\n",
    "        pathlib.Path(f'Data/Results/{league}').mkdir(parents=True, exist_ok=True) \n",
    "        pathlib.Path(f'Data/To_Predict/{league}').mkdir(parents=True, exist_ok=True) \n",
    "        self.league = league\n",
    "        self.url = url\n",
    "        self.year = year\n",
    "        r = requests.get(f\"{self.url}/scores/{self.league}/{self.year}\")\n",
    "        time.sleep(1)\n",
    "        soup = bs(r.content, 'html.parser')\n",
    "        matchday_str = soup.find('div', {'class': 'panel-title'}).text\n",
    "        self.matchday = [int(s) for s in matchday_str.split() if s.isdigit()][0]\n",
    "\n",
    "    def get_previous_matches(self):\n",
    "        results = {'Home_Team': [], 'Away_Team': [], 'Result': [], 'Link': [], 'Season': [], 'Round': [], 'League': []}\n",
    "        for matchday in tqdm(range(1, self.matchday)):\n",
    "            r = requests.get(f\"{self.url}/scores/{self.league}/{self.year}/round{matchday}\")\n",
    "            time.sleep(1)\n",
    "            soup = bs(r.content, 'html.parser')\n",
    "            matches_box = soup.find('div', {'class': 'panel-body p0 match-list-new'})\n",
    "            matches = matches_box.find_all('a', {'class': 'match-link'})\n",
    "            for match in matches:\n",
    "                home_team = match.find('div', {'class': 'team-info ta-r'}).find('div', {'class': 'name'}).text.strip()\n",
    "                away_team = match.find_all('div', {'class': 'team-info'})[1].find('div', {'class': 'name'}).text.strip()\n",
    "                home_score = match.find('div', {'class': 'marker'}).find('span', {'class': 'r1'}).text.strip()\n",
    "                away_score = match.find('div', {'class': 'marker'}).find('span', {'class': 'r2'}).text.strip()\n",
    "                results['Home_Team'].append(home_team)\n",
    "                results['Away_Team'].append(away_team)\n",
    "                results['Result'].append(f'{home_score}-{away_score}')\n",
    "                results['Link'].append(match.get('href'))\n",
    "                results['Season'].append(self.year)\n",
    "                results['Round'].append(matchday)\n",
    "                results['League'].append(self.league)\n",
    "        df = pd.DataFrame(results)\n",
    "        df.to_csv(f'Data/Results/{self.league}/Results_{self.year}_{self.league}.csv')\n",
    "    \n",
    "    def get_next_matches(self):\n",
    "        results = {'Home_Team': [], 'Away_Team': [], 'Link': [], 'Season': [], 'Round': [], 'League': []}\n",
    "        elo_dict = {}\n",
    "        r = requests.get(f\"{self.url}/scores/{self.league}/{self.year}/round{self.matchday + 1}\")\n",
    "        time.sleep(1)\n",
    "        soup = bs(r.content, 'html.parser')\n",
    "        matches_box = soup.find('div', {'class': 'panel-body p0 match-list-new'})\n",
    "        matches = matches_box.find_all('a', {'class': 'match-link'})\n",
    "        self.matches = matches\n",
    "\n",
    "        for match in matches:\n",
    "            home_team = match.find('div', {'class': 'team-info ta-r'}).find('div', {'class': 'name'}).text.strip()\n",
    "            away_team = match.find_all('div', {'class': 'team-info'})[1].find('div', {'class': 'name'}).text.strip()\n",
    "            results['Home_Team'].append(home_team)\n",
    "            results['Away_Team'].append(away_team)\n",
    "            results['Link'].append(match.get('href'))\n",
    "            results['Season'].append(self.year)\n",
    "            results['Round'].append(self.matchday + 1)\n",
    "            results['League'].append(self.league)\n",
    "            \n",
    "        for link in results['Link']:\n",
    "            time.sleep(3)\n",
    "            r = requests.get(link + '/analysis')\n",
    "            soup = bs(r.content, 'html.parser')\n",
    "            elo_box = soup.find('div', {'class': 'panel-body pn compare-data'})\n",
    "            elo_row = elo_box.find_all('tr')[1]\n",
    "            home_elo = elo_row.find('td', {'class': 'team1-c'}).text.strip()\n",
    "            away_elo = elo_row.find('td', {'class': 'team2-c'}).text.strip()\n",
    "            elo_dict[link] = {'Elo_home': home_elo, \n",
    "                              'Elo_away': away_elo}\n",
    "\n",
    "        df = pd.DataFrame(results)\n",
    "        df.to_csv(f'Data/To_Predict/{self.league}/Results_{self.year}_{self.league}.csv')\n",
    "        with open(f'Data/To_Predict/{self.league}/elo_dict.pkl', 'wb') as f:\n",
    "            pickle.dump(elo_dict, f)\n"
   ]
  },
  {
   "cell_type": "code",
   "execution_count": 5,
   "metadata": {},
   "outputs": [],
   "source": [
    "primera_division = Scraper('premier_league')\n",
    "primera_division.get_next_matches()"
   ]
  },
  {
   "cell_type": "code",
   "execution_count": 8,
   "metadata": {},
   "outputs": [],
   "source": [
    "with open('/Users/dev/aicore/Football-predictor/aicore-scraper/Data/To_Predict/premier_league/elo_dict.pkl', 'rb') as file:\n",
    "    elo_dict = pickle.load(file)"
   ]
  },
  {
   "cell_type": "code",
   "execution_count": 9,
   "metadata": {},
   "outputs": [
    {
     "data": {
      "text/plain": [
       "{'https://www.besoccer.com/match/tottenham-hotspur-fc/brighton-amp-hov/20225672': {'Elo_home': '89',\n",
       "  'Elo_away': '60'},\n",
       " 'https://www.besoccer.com/match/manchester-united-fc/norwich-city-fc/20225669': {'Elo_home': '92',\n",
       "  'Elo_away': '63'},\n",
       " 'https://www.besoccer.com/match/southampton-fc/arsenal/20225671': {'Elo_home': '81',\n",
       "  'Elo_away': '92'},\n",
       " 'https://www.besoccer.com/match/watford-fc/brentford/20225673': {'Elo_home': '71',\n",
       "  'Elo_away': '54'},\n",
       " 'https://www.besoccer.com/match/newcastle-united-fc/leicester-city-fc/20225670': {'Elo_home': '69',\n",
       "  'Elo_away': '79'},\n",
       " 'https://www.besoccer.com/match/west-ham-united/burnley-fc/20225674': {'Elo_home': '79',\n",
       "  'Elo_away': '69'},\n",
       " 'https://www.besoccer.com/match/wolverhampton/manchester-city-fc/20225675': {'Elo_home': '58',\n",
       "  'Elo_away': '93'},\n",
       " 'https://www.besoccer.com/match/aston-villa-fc/liverpool/20225666': {'Elo_home': '63',\n",
       "  'Elo_away': '89'},\n",
       " 'https://www.besoccer.com/match/leeds-united-afc/chelsea-fc/20225668': {'Elo_home': '59',\n",
       "  'Elo_away': '94'},\n",
       " 'https://www.besoccer.com/match/everton-fc/crystal-palace-fc/20225667': {'Elo_home': '83',\n",
       "  'Elo_away': '73'}}"
      ]
     },
     "execution_count": 9,
     "metadata": {},
     "output_type": "execute_result"
    }
   ],
   "source": [
    "elo_dict"
   ]
  },
  {
   "cell_type": "code",
   "execution_count": 7,
   "metadata": {},
   "outputs": [],
   "source": [
    "epl = Scraper('premier_league')\n",
    "epl.get_next_matches()"
   ]
  },
  {
   "cell_type": "code",
   "execution_count": 8,
   "metadata": {},
   "outputs": [
    {
     "data": {
      "text/plain": [
       "{'https://www.besoccer.com/match/liverpool/watford-fc/20225651': {'Elo_home': '90',\n",
       "  'Elo_away': '70'},\n",
       " 'https://www.besoccer.com/match/brighton-amp-hov/norwich-city-fc/20225646': {'Elo_home': '60',\n",
       "  'Elo_away': '64'},\n",
       " 'https://www.besoccer.com/match/burnley-fc/manchester-city-fc/20225647': {'Elo_home': '70',\n",
       "  'Elo_away': '94'},\n",
       " 'https://www.besoccer.com/match/chelsea-fc/brentford/20225648': {'Elo_home': '94',\n",
       "  'Elo_away': '53'},\n",
       " 'https://www.besoccer.com/match/leeds-united-afc/southampton-fc/20225650': {'Elo_home': '58',\n",
       "  'Elo_away': '82'},\n",
       " 'https://www.besoccer.com/match/wolverhampton/aston-villa-fc/20225655': {'Elo_home': '59',\n",
       "  'Elo_away': '62'},\n",
       " 'https://www.besoccer.com/match/manchester-united-fc/leicester-city-fc/20225652': {'Elo_home': '92',\n",
       "  'Elo_away': '79'},\n",
       " 'https://www.besoccer.com/match/west-ham-united/everton-fc/20225654': {'Elo_home': '79',\n",
       "  'Elo_away': '83'},\n",
       " 'https://www.besoccer.com/match/tottenham-hotspur-fc/newcastle-united-fc/20225653': {'Elo_home': '89',\n",
       "  'Elo_away': '70'},\n",
       " 'https://www.besoccer.com/match/crystal-palace-fc/arsenal/20225649': {'Elo_home': '73',\n",
       "  'Elo_away': '92'}}"
      ]
     },
     "execution_count": 8,
     "metadata": {},
     "output_type": "execute_result"
    }
   ],
   "source": [
    "with open('/Users/dev/aicore/Football-predictor/aicore-scraper/Data/To_Predict/premier_league/elo_dict.pkl', 'rb') as file:\n",
    "    elo_dict = pickle.load(file)\n",
    "elo_dict"
   ]
  },
  {
   "cell_type": "code",
   "execution_count": null,
   "metadata": {},
   "outputs": [],
   "source": []
  }
 ],
 "metadata": {
  "interpreter": {
   "hash": "e88a1a0c3d8d2b7fbd5fda69cfe9ad60bb676b2517a1f48e336cb6c7d52c7d19"
  },
  "kernelspec": {
   "display_name": "Python 3.9.7 ('datascience')",
   "language": "python",
   "name": "python3"
  },
  "language_info": {
   "codemirror_mode": {
    "name": "ipython",
    "version": 3
   },
   "file_extension": ".py",
   "mimetype": "text/x-python",
   "name": "python",
   "nbconvert_exporter": "python",
   "pygments_lexer": "ipython3",
   "version": "3.9.7"
  },
  "orig_nbformat": 4
 },
 "nbformat": 4,
 "nbformat_minor": 2
}
