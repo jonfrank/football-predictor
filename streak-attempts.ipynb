{
 "cells": [
  {
   "cell_type": "code",
   "execution_count": null,
   "metadata": {},
   "outputs": [],
   "source": [
    "# this is the method Gagandip was using\n",
    "\n",
    "streak_cols = ['home_win','away_win','draw']\n",
    "\n",
    "for col in streak_cols:\n",
    "    condition = fulldf[col].eq(0)\n",
    "    fulldf['reset'] = condition.groupby([fulldf['home_team'],fulldf['season']]).cumsum()\n",
    "    fulldf[col + '_streak'] = fulldf[col].mask(condition, 0).groupby([fulldf['home_team'],fulldf['reset']]).cumsum()\n",
    "\n",
    "for col in streak_cols:\n",
    "    condition = fulldf[col].eq(0)\n",
    "    fulldf['reset'] = condition.groupby([fulldf['away_team'],fulldf['season']]).cumsum()\n",
    "    fulldf[col + '_streak'] = fulldf[col].mask(condition, 0).groupby([fulldf['away_team'],fulldf['reset']]).cumsum()\n",
    "\n",
    "# test\n",
    "\n",
    "fulldf[(fulldf['season']=='2018') & (fulldf['home_team']=='brighton-amp-hov')]"
   ]
  },
  {
   "cell_type": "markdown",
   "metadata": {},
   "source": [
    "## A third attempt\n",
    "\n",
    "See https://stackoverflow.com/questions/42397647/pythonic-way-to-calculate-streaks-in-pandas-dataframe"
   ]
  },
  {
   "cell_type": "code",
   "execution_count": null,
   "metadata": {},
   "outputs": [],
   "source": [
    "# test with one season / team\n",
    "bh = fulldf[(fulldf['season']=='2018') & (fulldf['home_team']=='brighton-amp-hov')]\n",
    "s = bh['home_win'].groupby((bh['home_win'] != bh['home_win'].shift()).cumsum()).cumsum()\n",
    "bh.assign(streak=s.where(s>0, 0))"
   ]
  },
  {
   "cell_type": "code",
   "execution_count": null,
   "metadata": {},
   "outputs": [],
   "source": [
    "def streaks(df,cols):\n",
    "    kwargs = {}\n",
    "    for col in cols:\n",
    "        s = df[col].groupby((df[col]!=df[col].shift()).cumsum()).cumsum()\n",
    "        kwargs['cum_' + col] = s.where(s>0, 0)\n",
    "    return df.assign(**kwargs)\n"
   ]
  },
  {
   "cell_type": "code",
   "execution_count": null,
   "metadata": {},
   "outputs": [],
   "source": [
    "# check it works OK\n",
    "streaks(fulldf[(fulldf['season']==str(2018)) & (fulldf['home_team']=='brighton-amp-hov')], ['home_win','away_win','draw'])"
   ]
  },
  {
   "cell_type": "code",
   "execution_count": null,
   "metadata": {},
   "outputs": [],
   "source": [
    "l = []\n",
    "for season in range(1990,2022):\n",
    "    for team in teams:\n",
    "        l.append(streaks(fulldf[(fulldf['season']==str(season)) & (fulldf['home_team']==team)], ['home_win','away_win','draw']))\n",
    "home_streaks_df = pd.concat(l)"
   ]
  },
  {
   "cell_type": "code",
   "execution_count": null,
   "metadata": {},
   "outputs": [],
   "source": [
    "# again, check it's working\n",
    "home_streaks_df[(home_streaks_df['season']=='2018') & (home_streaks_df['home_team']=='brighton-amp-hov')]"
   ]
  }
 ],
 "metadata": {
  "interpreter": {
   "hash": "e88a1a0c3d8d2b7fbd5fda69cfe9ad60bb676b2517a1f48e336cb6c7d52c7d19"
  },
  "kernelspec": {
   "display_name": "Python 3.9.7 ('datascience')",
   "language": "python",
   "name": "python3"
  },
  "language_info": {
   "name": "python",
   "version": "3.9.7"
  },
  "orig_nbformat": 4
 },
 "nbformat": 4,
 "nbformat_minor": 2
}
